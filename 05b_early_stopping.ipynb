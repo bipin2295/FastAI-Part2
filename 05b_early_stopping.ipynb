{
  "nbformat": 4,
  "nbformat_minor": 0,
  "metadata": {
    "colab": {
      "name": "05b_early_stopping.ipynb",
      "provenance": [],
      "collapsed_sections": []
    },
    "kernelspec": {
      "name": "python3",
      "display_name": "Python 3"
    }
  },
  "cells": [
    {
      "cell_type": "code",
      "metadata": {
        "id": "KZ2_eEXHE-uu",
        "colab_type": "code",
        "colab": {}
      },
      "source": [
        "%load_ext autoreload\n",
        "%autoreload 2\n",
        "\n",
        "%matplotlib inline"
      ],
      "execution_count": 0,
      "outputs": []
    },
    {
      "cell_type": "code",
      "metadata": {
        "id": "tShAFCrLFETp",
        "colab_type": "code",
        "outputId": "e8f9e0c9-9a3c-4ae6-bde5-3637fba725e1",
        "colab": {
          "base_uri": "https://localhost:8080/",
          "height": 122
        }
      },
      "source": [
        "# export\n",
        "from google.colab import drive\n",
        "drive.mount('/content/drive')"
      ],
      "execution_count": 3,
      "outputs": [
        {
          "output_type": "stream",
          "text": [
            "Go to this URL in a browser: https://accounts.google.com/o/oauth2/auth?client_id=947318989803-6bn6qk8qdgf4n4g3pfee6491hc0brc4i.apps.googleusercontent.com&redirect_uri=urn%3Aietf%3Awg%3Aoauth%3A2.0%3Aoob&scope=email%20https%3A%2F%2Fwww.googleapis.com%2Fauth%2Fdocs.test%20https%3A%2F%2Fwww.googleapis.com%2Fauth%2Fdrive%20https%3A%2F%2Fwww.googleapis.com%2Fauth%2Fdrive.photos.readonly%20https%3A%2F%2Fwww.googleapis.com%2Fauth%2Fpeopleapi.readonly&response_type=code\n",
            "\n",
            "Enter your authorization code:\n",
            "··········\n",
            "Mounted at /content/drive\n"
          ],
          "name": "stdout"
        }
      ]
    },
    {
      "cell_type": "code",
      "metadata": {
        "id": "d_dMZmTjFG_0",
        "colab_type": "code",
        "outputId": "950baf0e-1b57-42cb-ec3f-7781e3401012",
        "colab": {
          "base_uri": "https://localhost:8080/",
          "height": 68
        }
      },
      "source": [
        "# export\n",
        "import sys\n",
        "sys.path.insert(0,\"/content/drive/My Drive/Colab Notebooks/exp\")\n",
        "from nb_05 import *"
      ],
      "execution_count": 4,
      "outputs": [
        {
          "output_type": "stream",
          "text": [
            "Drive already mounted at /content/drive; to attempt to forcibly remount, call drive.mount(\"/content/drive\", force_remount=True).\n",
            "Drive already mounted at /content/drive; to attempt to forcibly remount, call drive.mount(\"/content/drive\", force_remount=True).\n",
            "Drive already mounted at /content/drive; to attempt to forcibly remount, call drive.mount(\"/content/drive\", force_remount=True).\n"
          ],
          "name": "stdout"
        }
      ]
    },
    {
      "cell_type": "markdown",
      "metadata": {
        "id": "W-JduseHG9xf",
        "colab_type": "text"
      },
      "source": [
        "## Early stopping"
      ]
    },
    {
      "cell_type": "markdown",
      "metadata": {
        "id": "AONeia6XHHA5",
        "colab_type": "text"
      },
      "source": [
        "### Better callback cancellation"
      ]
    },
    {
      "cell_type": "code",
      "metadata": {
        "id": "ElJP2_Q0Grf2",
        "colab_type": "code",
        "colab": {}
      },
      "source": [
        "x_train, y_train, x_valid, y_valid = get_data()\n",
        "train_ds, valid_ds = Dataset(x_train, y_train), Dataset(x_valid, y_valid)\n",
        "nh, bs = 50, 512\n",
        "c = y_train.max().item()+1\n",
        "loss_func = F.cross_entropy"
      ],
      "execution_count": 0,
      "outputs": []
    },
    {
      "cell_type": "code",
      "metadata": {
        "id": "UnxwPO6mHio3",
        "colab_type": "code",
        "colab": {}
      },
      "source": [
        "data = Databunch(*get_dls(train_ds, valid_ds, bs), c)"
      ],
      "execution_count": 0,
      "outputs": []
    },
    {
      "cell_type": "code",
      "metadata": {
        "id": "fWcc3KJVHymb",
        "colab_type": "code",
        "colab": {}
      },
      "source": [
        "# export\n",
        "class Callback():\n",
        "  _order = 0\n",
        "  def set_runner(self, run):\n",
        "    self.run = run\n",
        "\n",
        "  def __getattr__(self, k):\n",
        "    return getattr(self.run, k)\n",
        "\n",
        "  @property\n",
        "  def name(self):\n",
        "    name = re.sub(r'Callback$', '', self.__class__.__name__)\n",
        "    return camel2snake(name or 'callback')\n",
        "\n",
        "  def __call__(self, cb_name):\n",
        "    f = getattr(self, cb_name, None)\n",
        "    if f and f(): return True\n",
        "    return False\n",
        "\n",
        "class TrainEvalCallback(Callback):\n",
        "  def begin_fit(self):\n",
        "    self.run.n_epoch=0.\n",
        "    self.run.n_iter=0\n",
        "\n",
        "  def after_batch(self):\n",
        "    if not self.in_train: return\n",
        "    self.run.n_eopchs += 1./self.iters\n",
        "    self.run.n_iter += 1\n",
        "\n",
        "  def begin_epoch(self):\n",
        "    self.run.n_eopchs = self.epoch\n",
        "    self.model.train()\n",
        "    self.run.in_train=True\n",
        "\n",
        "  def begin_validate(self):\n",
        "    self.model.eval()\n",
        "    self.run.in_train = False\n",
        "\n",
        "class CancelTrainException(Exception): pass\n",
        "class CancelEpochException(Exception): pass\n",
        "class CancelBatchException(Exception): pass\n",
        "\n"
      ],
      "execution_count": 0,
      "outputs": []
    },
    {
      "cell_type": "code",
      "metadata": {
        "id": "5F2zjS_WMqjs",
        "colab_type": "code",
        "colab": {}
      },
      "source": [
        "# export\n",
        "class Runner():\n",
        "  def __init__(self, cbs= None, cb_funcs=None):\n",
        "    cbs = listify(cbs)\n",
        "    for cbf in listify(cb_funcs):\n",
        "      cb = cbf()\n",
        "      setattr(self, cb.name, cb)\n",
        "      cbs.append(cb)\n",
        "    self.stop, self.cbs = False, [TrainEvalCallback()]+cbs\n",
        "\n",
        "  @property\n",
        "  def opt(self):  return self.learn.opt\n",
        "\n",
        "  @property\n",
        "  def model(self):  return self.learn.model\n",
        "\n",
        "  @property\n",
        "  def loss_func(self):  return self.learn.loss_func\n",
        "\n",
        "  @property\n",
        "  def data(self): return self.learn.data\n",
        "\n",
        "  def one_batch(self,xb,yb):\n",
        "    try:\n",
        "      self.xb, self.yb = xb, yb\n",
        "      self('begin_batch')\n",
        "      self.pred = self.model(self.xb)\n",
        "      self('after_pred')\n",
        "      self.loss = self.loss_func(self.pred, self.yb)\n",
        "      self('after_loss')\n",
        "      if not self.in_train:  return\n",
        "      self.loss.backward()\n",
        "      self('after_backward')\n",
        "      self.opt.step()\n",
        "      self('after_step')\n",
        "      self.opt.zero_grad()\n",
        "    except CancelBatchException:\n",
        "      self('after_cancel_batch')\n",
        "    finally: self('after_batch')\n",
        "\n",
        "  def all_batches(self, dl):\n",
        "    self.iters = len(dl)\n",
        "    try:\n",
        "      for xb, yb in dl:\n",
        "        self.one_batch(xb, yb)\n",
        "    except CancelEpochException:  \n",
        "      self('after_cancel_epoch')\n",
        "    \n",
        "  def fit(self, epochs, learn):\n",
        "    self.epochs, self.learn, self.loss = epochs, learn, tensor(0.)\n",
        "    \n",
        "    try:\n",
        "      for cb in self.cbs: cb.set_runner(self)\n",
        "      self('begin_fit')\n",
        "      for epoch in range(epochs):\n",
        "        self.epoch = epoch\n",
        "        if not self('begin_epoch'): self.all_batches(self.data.train_dl)\n",
        "\n",
        "        with torch.no_grad():\n",
        "          if not self('begin_validate'):\n",
        "            self.all_batches(self.data.valid_dl)\n",
        "            self('after_epocs')\n",
        "    except CancelTrainException:\n",
        "      self('after_cancel_train')\n",
        "    finally:\n",
        "      self('after_fit')\n",
        "      self.learn = None\n",
        "\n",
        "  def __call__(self, cb_name):\n",
        "    res = False\n",
        "    for cb in sorted(self.cbs, key=lambda x: x._order):\n",
        "      res = cb(cb_name) and res\n",
        "    return res\n"
      ],
      "execution_count": 0,
      "outputs": []
    },
    {
      "cell_type": "code",
      "metadata": {
        "id": "2sVlGp9lWRNA",
        "colab_type": "code",
        "colab": {}
      },
      "source": [
        "learn = create_learner(get_model, loss_func, data)"
      ],
      "execution_count": 0,
      "outputs": []
    },
    {
      "cell_type": "code",
      "metadata": {
        "id": "-6jWjVbkWZQ7",
        "colab_type": "code",
        "colab": {}
      },
      "source": [
        "class TestCallBack(Callback):\n",
        "  _order =1\n",
        "  def after_step(self):\n",
        "    print(self.n_iter)\n",
        "    if self.n_iter>=10:\n",
        "      raise CancelTrainException()"
      ],
      "execution_count": 0,
      "outputs": []
    },
    {
      "cell_type": "code",
      "metadata": {
        "id": "wapSd3TgWnmZ",
        "colab_type": "code",
        "colab": {}
      },
      "source": [
        "run = Runner(cb_funcs=TestCallBack)"
      ],
      "execution_count": 0,
      "outputs": []
    },
    {
      "cell_type": "code",
      "metadata": {
        "id": "ROLEpUHCWrZ9",
        "colab_type": "code",
        "outputId": "662ce2f6-ea5b-4040-a713-83e2cebe4339",
        "colab": {
          "base_uri": "https://localhost:8080/",
          "height": 204
        }
      },
      "source": [
        "run.fit(3, learn)"
      ],
      "execution_count": 12,
      "outputs": [
        {
          "output_type": "stream",
          "text": [
            "0\n",
            "1\n",
            "2\n",
            "3\n",
            "4\n",
            "5\n",
            "6\n",
            "7\n",
            "8\n",
            "9\n",
            "10\n"
          ],
          "name": "stdout"
        }
      ]
    },
    {
      "cell_type": "markdown",
      "metadata": {
        "id": "yDLGuMzQg6xs",
        "colab_type": "text"
      },
      "source": [
        "## Other Callbacks"
      ]
    },
    {
      "cell_type": "code",
      "metadata": {
        "id": "a7Ls-d8rW3pY",
        "colab_type": "code",
        "colab": {}
      },
      "source": [
        "# export\n",
        "class AvgStatsCallback(Callback):\n",
        "  def __init__(self, metrics):\n",
        "    self.train_stats, self.valid_stats = AvgStats(metrics,True), AvgStats(metrics,False)\n",
        "\n",
        "  def begin_epoch(self):\n",
        "    self.train_stats.reset()\n",
        "    self.valid_stats.reset()\n",
        "\n",
        "  def after_loss(self):\n",
        "    stats = self.train_stats if self.in_train else self.valid_stats\n",
        "    with torch.no_grad():\n",
        "      stats.accumulate(self.run)\n",
        "\n",
        "  def after_epoch(self):\n",
        "    print(self.train_stats)\n",
        "    print(self.valid_stats)\n",
        "\n",
        "class Recorder(Callback):\n",
        "  def begin_fit(self):\n",
        "    self.lrs = [[] for _ in self.opt.param_groups]\n",
        "    self.losses = []\n",
        "\n",
        "  def after_batch(self):\n",
        "    if not self.in_train:\n",
        "      return\n",
        "    for pg, lr in zip(self.opt.param_groups, self.lrs):\n",
        "      lr.append(pg['lr'])\n",
        "      self.losses.append(self.loss.detach().cpu())\n",
        "\n",
        "  def plot_lr(self, pgid=-1):\n",
        "    plt.plot(self.lrs[pgid])\n",
        "\n",
        "  def plot_loss(self, skip_last=0):\n",
        "    plt.plot(self.losses[:len(self.losses)-skip_last])\n",
        "\n",
        "  def plot(self, skip_last=0, pgid=-1):\n",
        "    losses = [o.item() for o in self.losses]\n",
        "    lrs = self.lrs[pgid]\n",
        "    n =len(losses)-skip_last\n",
        "    plt.xscale('log')\n",
        "    plt.plot(lrs[:n], losses[:n])\n",
        "\n",
        "class ParamScheduler(Callback):\n",
        "  _order = 1\n",
        "  def __init__(self, pname, sched_funcs):\n",
        "    self.pname, self.sched_funcs = pname, sched_funcs\n",
        "\n",
        "  def begin_fit(self):\n",
        "    if not isinstance(self.sched_funcs, (list, tuple)):\n",
        "      self.sched_funcs = [self.sched_funcs] * len(self.opt.param_groups)\n",
        "\n",
        "  def set_param(self):\n",
        "    assert len(self.opt.param_groups) == len(self.sched_funcs)\n",
        "    for pg, f in zip(self.opt.param_groups, self.sched_funcs):\n",
        "      pg[self.pname] = f(self.n_epochs/self.epochs)\n",
        "\n",
        "  def begin_batch(self):\n",
        "    if self.in_train:\n",
        "      self.set_param()\n",
        "\n"
      ],
      "execution_count": 0,
      "outputs": []
    },
    {
      "cell_type": "markdown",
      "metadata": {
        "id": "U2PYUGvLqLCM",
        "colab_type": "text"
      },
      "source": [
        "### LR Finder\n",
        "\n",
        "NB: You may want to also add something that saves the model before running this, and loads it back after running - otherwise you'll lose your weights!"
      ]
    },
    {
      "cell_type": "code",
      "metadata": {
        "id": "n41rVGm5qIlM",
        "colab_type": "code",
        "colab": {}
      },
      "source": [
        "class LR_Find(Callback):\n",
        "  _order = 1\n",
        "  def __init__(self, max_iter=100, min_lr=1e-6, max_lr=10):\n",
        "    self.max_iter, self.min_lr, self.max_lr = max_iter, min_lr, max_lr\n",
        "    self.best_loss = 1e9\n",
        "\n",
        "  def begin_batch(self):\n",
        "    if not self.in_train: return\n",
        "    pos = self.n_iter/self.max_iter\n",
        "    lr = self.min_lr * (self.max_lr/self.min_lr)**pos\n",
        "    for pg in self.opt.param_groups:\n",
        "      pg['lr'] = lr\n",
        "\n",
        "  def after_step(self):\n",
        "    if self.n_iter >= self.max_iter or self.loss > self.best_loss * 10:\n",
        "      raise CancelTrainException()\n",
        "    if self.loss < self.best_loss:\n",
        "      self.best_loss = self.loss\n"
      ],
      "execution_count": 0,
      "outputs": []
    },
    {
      "cell_type": "markdown",
      "metadata": {
        "id": "kW0E5k-cslzt",
        "colab_type": "text"
      },
      "source": [
        "NB: In fastai we also use exponential smoothing on the loss. For that reason we check for best_loss*3 instead of best_loss*10."
      ]
    },
    {
      "cell_type": "code",
      "metadata": {
        "id": "_ipqNJdcsejT",
        "colab_type": "code",
        "colab": {}
      },
      "source": [
        "learn = create_learner(get_model, loss_func, data)"
      ],
      "execution_count": 0,
      "outputs": []
    },
    {
      "cell_type": "code",
      "metadata": {
        "id": "_WbrPRBTr2a-",
        "colab_type": "code",
        "colab": {}
      },
      "source": [
        "run = Runner(cb_funcs=[LR_Find, Recorder])"
      ],
      "execution_count": 0,
      "outputs": []
    },
    {
      "cell_type": "code",
      "metadata": {
        "id": "YtJ2d-WJWmeA",
        "colab_type": "code",
        "colab": {}
      },
      "source": [
        "run.fit(2, learn)"
      ],
      "execution_count": 0,
      "outputs": []
    },
    {
      "cell_type": "code",
      "metadata": {
        "id": "rKHTRX8psz9v",
        "colab_type": "code",
        "outputId": "8994a5d0-837e-4d69-b94a-9ba6dae737a8",
        "colab": {
          "base_uri": "https://localhost:8080/",
          "height": 273
        }
      },
      "source": [
        "run.recorder.plot(skip_last=5)"
      ],
      "execution_count": 18,
      "outputs": [
        {
          "output_type": "display_data",
          "data": {
            "image/png": "[encoded data removed]",
            "text/plain": [
              "<Figure size 432x288 with 1 Axes>"
            ]
          },
          "metadata": {
            "tags": []
          }
        }
      ]
    },
    {
      "cell_type": "code",
      "metadata": {
        "id": "hprOO7CNtnSS",
        "colab_type": "code",
        "outputId": "b6a1bc96-8ac4-4a90-ae13-58fda70c91b5",
        "colab": {
          "base_uri": "https://localhost:8080/",
          "height": 269
        }
      },
      "source": [
        "run.recorder.plot_lr()"
      ],
      "execution_count": 19,
      "outputs": [
        {
          "output_type": "display_data",
          "data": {
            "image/png": "[encoded data removed]",
            "text/plain": [
              "<Figure size 432x288 with 1 Axes>"
            ]
          },
          "metadata": {
            "tags": []
          }
        }
      ]
    },
    {
      "cell_type": "markdown",
      "metadata": {
        "id": "UzPEhSi-A7uj",
        "colab_type": "text"
      },
      "source": [
        "## Export"
      ]
    },
    {
      "cell_type": "code",
      "metadata": {
        "id": "EE7LbzgstquA",
        "colab_type": "code",
        "colab": {
          "base_uri": "https://localhost:8080/",
          "height": 68
        },
        "outputId": "a1269037-03fd-4ccc-ecc5-a3ae545bfa9b"
      },
      "source": [
        "!pip install fire"
      ],
      "execution_count": 20,
      "outputs": [
        {
          "output_type": "stream",
          "text": [
            "Requirement already satisfied: fire in /usr/local/lib/python3.6/dist-packages (0.2.1)\n",
            "Requirement already satisfied: six in /usr/local/lib/python3.6/dist-packages (from fire) (1.12.0)\n",
            "Requirement already satisfied: termcolor in /usr/local/lib/python3.6/dist-packages (from fire) (1.1.0)\n"
          ],
          "name": "stdout"
        }
      ]
    },
    {
      "cell_type": "code",
      "metadata": {
        "id": "B1lT2ajJBAkP",
        "colab_type": "code",
        "colab": {
          "base_uri": "https://localhost:8080/",
          "height": 34
        },
        "outputId": "94f1c98f-da95-4150-a7a5-eb7c8439feeb"
      },
      "source": [
        "!python \"/content/drive/My Drive/Colab Notebooks/notebook2script.py\" \"/content/drive/My Drive/Colab Notebooks/05b_early_stopping.ipynb\""
      ],
      "execution_count": 21,
      "outputs": [
        {
          "output_type": "stream",
          "text": [
            "Converted /content/drive/My Drive/Colab Notebooks/05b_early_stopping.ipynb to /content/drive/My Drive/Colab Notebooks/exp/nb_05b.py\n"
          ],
          "name": "stdout"
        }
      ]
    }
  ]
}