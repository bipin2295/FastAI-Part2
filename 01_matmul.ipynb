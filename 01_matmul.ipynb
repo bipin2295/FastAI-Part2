{
  "nbformat": 4,
  "nbformat_minor": 0,
  "metadata": {
    "colab": {
      "name": "01_matmul",
      "version": "0.3.2",
      "provenance": [],
      "collapsed_sections": [],
      "include_colab_link": true
    },
    "kernelspec": {
      "name": "python3",
      "display_name": "Python 3"
    }
  },
  "cells": [
    {
      "cell_type": "markdown",
      "metadata": {
        "id": "view-in-github",
        "colab_type": "text"
      },
      "source": [
        "<a href=\"https://colab.research.google.com/github/bipin2295/FastAI-Part2/blob/master/01_matmul.ipynb\" target=\"_parent\"><img src=\"https://colab.research.google.com/assets/colab-badge.svg\" alt=\"Open In Colab\"/></a>"
      ]
    },
    {
      "cell_type": "markdown",
      "metadata": {
        "id": "xVbbgRHXcx24",
        "colab_type": "text"
      },
      "source": [
        "# **Get Data**"
      ]
    },
    {
      "cell_type": "code",
      "metadata": {
        "id": "lVGjwds5aPYX",
        "colab_type": "code",
        "colab": {}
      },
      "source": [
        "#export\n",
        "from pathlib import Path\n",
        "from IPython.core.debugger import set_trace\n",
        "from fastai import datasets\n",
        "import pickle, gzip, math, torch, matplotlib as mpl\n",
        "import matplotlib.pyplot as plt\n",
        "from torch import tensor\n",
        "\n",
        "MNIST_URL='http://deeplearning.net/data/mnist/mnist.pkl'\n"
      ],
      "execution_count": 0,
      "outputs": []
    },
    {
      "cell_type": "code",
      "metadata": {
        "id": "iAWehM2Oc-AT",
        "colab_type": "code",
        "outputId": "08aa346b-1b6a-4b5a-b38d-ea5551790003",
        "colab": {
          "base_uri": "https://localhost:8080/",
          "height": 34
        }
      },
      "source": [
        "path = datasets.download_data(url=MNIST_URL, ext='.gz');\n",
        "path"
      ],
      "execution_count": 2,
      "outputs": [
        {
          "output_type": "execute_result",
          "data": {
            "text/plain": [
              "PosixPath('/root/.fastai/data/mnist.pkl.gz')"
            ]
          },
          "metadata": {
            "tags": []
          },
          "execution_count": 2
        }
      ]
    },
    {
      "cell_type": "code",
      "metadata": {
        "id": "51exaJY5dhNg",
        "colab_type": "code",
        "colab": {}
      },
      "source": [
        "with gzip.open(path, 'rb') as f:\n",
        "  ((x_train, y_train),(x_valid, y_valid), _) = pickle.load(f,encoding='latin1')#https://stackoverflow.com/questions/11305790/pickle-incompatibility-of-numpy-arrays-between-python-2-and-3\n",
        "  "
      ],
      "execution_count": 0,
      "outputs": []
    },
    {
      "cell_type": "code",
      "metadata": {
        "id": "ThgsRN8elkBA",
        "colab_type": "code",
        "colab": {}
      },
      "source": [
        "x_train, y_train, x_valid, y_valid = map(tensor, (x_train, y_train, x_valid, y_valid))\n",
        "n,c = x_train.shape"
      ],
      "execution_count": 0,
      "outputs": []
    },
    {
      "cell_type": "code",
      "metadata": {
        "id": "Vo01S4numuSn",
        "colab_type": "code",
        "outputId": "7e88e9bf-df9a-4633-a6f2-8adce858c06c",
        "colab": {
          "base_uri": "https://localhost:8080/",
          "height": 221
        }
      },
      "source": [
        "x_train, x_train.shape, y_train, y_train.shape, y_train.min(), y_train.max()"
      ],
      "execution_count": 5,
      "outputs": [
        {
          "output_type": "execute_result",
          "data": {
            "text/plain": [
              "(tensor([[0., 0., 0.,  ..., 0., 0., 0.],\n",
              "         [0., 0., 0.,  ..., 0., 0., 0.],\n",
              "         [0., 0., 0.,  ..., 0., 0., 0.],\n",
              "         ...,\n",
              "         [0., 0., 0.,  ..., 0., 0., 0.],\n",
              "         [0., 0., 0.,  ..., 0., 0., 0.],\n",
              "         [0., 0., 0.,  ..., 0., 0., 0.]]),\n",
              " torch.Size([50000, 784]),\n",
              " tensor([5, 0, 4,  ..., 8, 4, 8]),\n",
              " torch.Size([50000]),\n",
              " tensor(0),\n",
              " tensor(9))"
            ]
          },
          "metadata": {
            "tags": []
          },
          "execution_count": 5
        }
      ]
    },
    {
      "cell_type": "code",
      "metadata": {
        "id": "oVKGDof-mNW2",
        "colab_type": "code",
        "colab": {}
      },
      "source": [
        "assert n==y_train.shape[0]==50000"
      ],
      "execution_count": 0,
      "outputs": []
    },
    {
      "cell_type": "code",
      "metadata": {
        "id": "ZYRsAsncmcoB",
        "colab_type": "code",
        "outputId": "4ba9c35e-9867-4d62-a2e0-df4f09096160",
        "colab": {
          "base_uri": "https://localhost:8080/",
          "height": 51
        }
      },
      "source": [
        "print(f\"current cmap property : {mpl.rcParams['image.cmap']}\")\n",
        "mpl.rcParams['image.cmap']='gray'\n",
        "print(f\"new cmap property : {mpl.rcParams['image.cmap']}\")"
      ],
      "execution_count": 7,
      "outputs": [
        {
          "output_type": "stream",
          "text": [
            "current cmap property : viridis\n",
            "new cmap property : gray\n"
          ],
          "name": "stdout"
        }
      ]
    },
    {
      "cell_type": "code",
      "metadata": {
        "id": "DiRxpKm9lPUe",
        "colab_type": "code",
        "colab": {}
      },
      "source": [
        "img = x_train[0]"
      ],
      "execution_count": 0,
      "outputs": []
    },
    {
      "cell_type": "code",
      "metadata": {
        "id": "u45WMRr3olus",
        "colab_type": "code",
        "outputId": "53d1bee7-5198-4cff-fbb4-848e04b1539a",
        "colab": {
          "base_uri": "https://localhost:8080/",
          "height": 34
        }
      },
      "source": [
        "img.view(28,28).type()"
      ],
      "execution_count": 9,
      "outputs": [
        {
          "output_type": "execute_result",
          "data": {
            "text/plain": [
              "'torch.FloatTensor'"
            ]
          },
          "metadata": {
            "tags": []
          },
          "execution_count": 9
        }
      ]
    },
    {
      "cell_type": "code",
      "metadata": {
        "id": "kO79DUseo20h",
        "colab_type": "code",
        "outputId": "1bc8794b-f3d1-47e8-cbc9-8abd33a997a7",
        "colab": {
          "base_uri": "https://localhost:8080/",
          "height": 286
        }
      },
      "source": [
        "plt.imshow(img.view(28,28)) \n",
        "print (f\"Number : {y_train[0]}\")"
      ],
      "execution_count": 10,
      "outputs": [
        {
          "output_type": "stream",
          "text": [
            "Number : 5\n"
          ],
          "name": "stdout"
        },
        {
          "output_type": "display_data",
          "data": {
            "image/png": "[encoded data removed]",
            "text/plain": [
              "<Figure size 432x288 with 1 Axes>"
            ]
          },
          "metadata": {
            "tags": []
          }
        }
      ]
    },
    {
      "cell_type": "markdown",
      "metadata": {
        "id": "GmN-qScqqD8z",
        "colab_type": "text"
      },
      "source": [
        "# **Initial Python Model**"
      ]
    },
    {
      "cell_type": "code",
      "metadata": {
        "id": "iIP7okLPo7x1",
        "colab_type": "code",
        "colab": {}
      },
      "source": [
        "weights = torch.randn(784,10)\n",
        "bias = torch.zeros(10)"
      ],
      "execution_count": 0,
      "outputs": []
    },
    {
      "cell_type": "markdown",
      "metadata": {
        "id": "_rNp4VIJjrfl",
        "colab_type": "text"
      },
      "source": [
        "### Matrix Multiplication"
      ]
    },
    {
      "cell_type": "markdown",
      "metadata": {
        "id": "vDCPietGnHat",
        "colab_type": "text"
      },
      "source": [
        "#### Using Simple loops"
      ]
    },
    {
      "cell_type": "code",
      "metadata": {
        "id": "YO5T7X7zjmCU",
        "colab_type": "code",
        "colab": {}
      },
      "source": [
        "def matmul(a,b):\n",
        "  ar,ac = a.shape\n",
        "  br,bc = b.shape\n",
        "  assert ac == br\n",
        "  c = torch.zeros(ar,bc)\n",
        "  for i in range(ar):\n",
        "    for j in range(bc):\n",
        "      for k in range(ar):\n",
        "        c[i,j] += a[i,k]* b[k,j]\n",
        "  return c        "
      ],
      "execution_count": 0,
      "outputs": []
    },
    {
      "cell_type": "code",
      "metadata": {
        "id": "2XdiLEsBkxkC",
        "colab_type": "code",
        "colab": {}
      },
      "source": [
        "m1 =  x_valid[:5,:]\n",
        "m2 = weights"
      ],
      "execution_count": 0,
      "outputs": []
    },
    {
      "cell_type": "code",
      "metadata": {
        "id": "7r3oJKuRjY__",
        "colab_type": "code",
        "outputId": "e7551d80-0e61-4ab8-9ca3-8d3ad815063e",
        "colab": {
          "base_uri": "https://localhost:8080/",
          "height": 34
        }
      },
      "source": [
        "m1.shape, m2.shape"
      ],
      "execution_count": 14,
      "outputs": [
        {
          "output_type": "execute_result",
          "data": {
            "text/plain": [
              "(torch.Size([5, 784]), torch.Size([784, 10]))"
            ]
          },
          "metadata": {
            "tags": []
          },
          "execution_count": 14
        }
      ]
    },
    {
      "cell_type": "code",
      "metadata": {
        "id": "uOr3C0b2lHB7",
        "colab_type": "code",
        "outputId": "4980c2dd-a5a3-442c-85f0-095919d988d8",
        "colab": {
          "base_uri": "https://localhost:8080/",
          "height": 51
        }
      },
      "source": [
        "%time t1 = matmul(m1,m2)"
      ],
      "execution_count": 15,
      "outputs": [
        {
          "output_type": "stream",
          "text": [
            "CPU times: user 9.43 ms, sys: 3.99 ms, total: 13.4 ms\n",
            "Wall time: 12 ms\n"
          ],
          "name": "stdout"
        }
      ]
    },
    {
      "cell_type": "markdown",
      "metadata": {
        "id": "KjU7AUl6lixy",
        "colab_type": "text"
      },
      "source": [
        "Note the speed, it's ~8 ms for 784 columns. It's too slow"
      ]
    },
    {
      "cell_type": "code",
      "metadata": {
        "id": "onVI-XeelXwe",
        "colab_type": "code",
        "outputId": "f07a4deb-6859-447a-db8e-263e6d35d440",
        "colab": {
          "base_uri": "https://localhost:8080/",
          "height": 34
        }
      },
      "source": [
        "t1.shape"
      ],
      "execution_count": 16,
      "outputs": [
        {
          "output_type": "execute_result",
          "data": {
            "text/plain": [
              "torch.Size([5, 10])"
            ]
          },
          "metadata": {
            "tags": []
          },
          "execution_count": 16
        }
      ]
    },
    {
      "cell_type": "markdown",
      "metadata": {
        "id": "1vLQ3R9knObc",
        "colab_type": "text"
      },
      "source": [
        "#### Using Elementwise operators"
      ]
    },
    {
      "cell_type": "code",
      "metadata": {
        "id": "HWCY80Ufls_u",
        "colab_type": "code",
        "colab": {}
      },
      "source": [
        "def matmul(a,b):\n",
        "  ar,ac = a.shape\n",
        "  br,bc = b.shape\n",
        "  assert ac == br\n",
        "  c = torch.zeros(ar,bc)\n",
        "  for i in range(ar):\n",
        "    for j in range(bc):\n",
        "      #Note that we removed one loop and used * operator to multiply row and column \n",
        "      c[i,j] = (a[i,:] * b[:,j]).sum()\n",
        "  return c"
      ],
      "execution_count": 0,
      "outputs": []
    },
    {
      "cell_type": "code",
      "metadata": {
        "id": "yTNrKn7ZoAHy",
        "colab_type": "code",
        "outputId": "cb1750b9-cc02-48f3-9df3-3a30c0fa50a6",
        "colab": {
          "base_uri": "https://localhost:8080/",
          "height": 34
        }
      },
      "source": [
        "%timeit -n 10 _ = matmul(m1,m2)"
      ],
      "execution_count": 18,
      "outputs": [
        {
          "output_type": "stream",
          "text": [
            "10 loops, best of 3: 1.3 ms per loop\n"
          ],
          "name": "stdout"
        }
      ]
    },
    {
      "cell_type": "markdown",
      "metadata": {
        "id": "SySwii8hpkt6",
        "colab_type": "text"
      },
      "source": [
        "Note that time has reduced to 1.32 ms, which is 8 times less."
      ]
    },
    {
      "cell_type": "markdown",
      "metadata": {
        "id": "THgmHYMjr7XT",
        "colab_type": "text"
      },
      "source": [
        "#### Using Broadcasting:\n",
        "The term **broadcasting** describes how arrays with different shapes are treated during arithmetic operations. The term broadcasting was first used by Numpy."
      ]
    },
    {
      "cell_type": "markdown",
      "metadata": {
        "id": "_zaxMSEzsIMX",
        "colab_type": "text"
      },
      "source": [
        "From the Numpy Documentation:\n",
        "\n",
        "\n",
        "\n",
        "```\n",
        "The term broadcasting describes how numpy treats arrays with \n",
        "different shapes during arithmetic operations. Subject to certain \n",
        "constraints, the smaller array is “broadcast” across the larger \n",
        "array so that they have compatible shapes. Broadcasting provides a \n",
        "means of vectorizing array operations so that looping occurs in C\n",
        "instead of Python. It does this without making needless copies of \n",
        "data and usually leads to efficient algorithm implementations.\n",
        "```\n",
        "\n",
        "\n"
      ]
    },
    {
      "cell_type": "markdown",
      "metadata": {
        "id": "XTWZmgC6safi",
        "colab_type": "text"
      },
      "source": [
        "#### Broadcasting with scalar"
      ]
    },
    {
      "cell_type": "code",
      "metadata": {
        "id": "o2EJThqSsg5U",
        "colab_type": "code",
        "outputId": "39776d50-d9d4-4f1e-836b-ef96b3b5d004",
        "colab": {
          "base_uri": "https://localhost:8080/",
          "height": 34
        }
      },
      "source": [
        "a = tensor([10., 6, -4])\n",
        "b = tensor([2., 8, 7])\n",
        "a,b"
      ],
      "execution_count": 19,
      "outputs": [
        {
          "output_type": "execute_result",
          "data": {
            "text/plain": [
              "(tensor([10.,  6., -4.]), tensor([2., 8., 7.]))"
            ]
          },
          "metadata": {
            "tags": []
          },
          "execution_count": 19
        }
      ]
    },
    {
      "cell_type": "code",
      "metadata": {
        "id": "Mjm81Icfs2RC",
        "colab_type": "code",
        "outputId": "ad4c90d1-2b4d-47e9-f00d-e0146d90c173",
        "colab": {
          "base_uri": "https://localhost:8080/",
          "height": 34
        }
      },
      "source": [
        "a>0"
      ],
      "execution_count": 20,
      "outputs": [
        {
          "output_type": "execute_result",
          "data": {
            "text/plain": [
              "tensor([1, 1, 0], dtype=torch.uint8)"
            ]
          },
          "metadata": {
            "tags": []
          },
          "execution_count": 20
        }
      ]
    },
    {
      "cell_type": "markdown",
      "metadata": {
        "id": "Jd_c9UdctOUe",
        "colab_type": "text"
      },
      "source": [
        "How are we able to do a > 0? 0 is being **broadcast** to have the same dimensions as a.\n",
        "\n",
        "For instance you can normalize our dataset by subtracting the mean (a scalar) from the entire data set (a matrix) and dividing by the standard deviation (another scalar), using broadcasting.\n",
        "\n",
        "Other examples of broadcasting with a scalar:"
      ]
    },
    {
      "cell_type": "code",
      "metadata": {
        "id": "IZkj4lQbtRcg",
        "colab_type": "code",
        "outputId": "7bcf80b5-2557-4fc2-e750-b9b83d334bf3",
        "colab": {
          "base_uri": "https://localhost:8080/",
          "height": 34
        }
      },
      "source": [
        "a-1 #Broadcasting scalar to matrix"
      ],
      "execution_count": 21,
      "outputs": [
        {
          "output_type": "execute_result",
          "data": {
            "text/plain": [
              "tensor([ 9.,  5., -5.])"
            ]
          },
          "metadata": {
            "tags": []
          },
          "execution_count": 21
        }
      ]
    },
    {
      "cell_type": "code",
      "metadata": {
        "id": "I_Rk4URltZKD",
        "colab_type": "code",
        "outputId": "8514f87d-1d04-478b-d70b-9715f651a5ac",
        "colab": {
          "base_uri": "https://localhost:8080/",
          "height": 68
        }
      },
      "source": [
        "m = tensor([[1., 2, 3],\n",
        "           [4, 5, 6],\n",
        "           [7, 8, 9]])\n",
        "m, type(m)"
      ],
      "execution_count": 22,
      "outputs": [
        {
          "output_type": "execute_result",
          "data": {
            "text/plain": [
              "(tensor([[1., 2., 3.],\n",
              "         [4., 5., 6.],\n",
              "         [7., 8., 9.]]), torch.Tensor)"
            ]
          },
          "metadata": {
            "tags": []
          },
          "execution_count": 22
        }
      ]
    },
    {
      "cell_type": "code",
      "metadata": {
        "id": "8mkhiLNot2D1",
        "colab_type": "code",
        "outputId": "965f7b1e-a382-46e0-b0e3-6e35e5f2ca91",
        "colab": {
          "base_uri": "https://localhost:8080/",
          "height": 68
        }
      },
      "source": [
        "2*m   #"
      ],
      "execution_count": 23,
      "outputs": [
        {
          "output_type": "execute_result",
          "data": {
            "text/plain": [
              "tensor([[ 2.,  4.,  6.],\n",
              "        [ 8., 10., 12.],\n",
              "        [14., 16., 18.]])"
            ]
          },
          "metadata": {
            "tags": []
          },
          "execution_count": 23
        }
      ]
    },
    {
      "cell_type": "code",
      "metadata": {
        "id": "B7Xo8azQtvg7",
        "colab_type": "code",
        "outputId": "ce18129c-990f-4545-fce8-56af6096f77c",
        "colab": {
          "base_uri": "https://localhost:8080/",
          "height": 34
        }
      },
      "source": [
        "c = tensor([10.,20.,30.]);c"
      ],
      "execution_count": 24,
      "outputs": [
        {
          "output_type": "execute_result",
          "data": {
            "text/plain": [
              "tensor([10., 20., 30.])"
            ]
          },
          "metadata": {
            "tags": []
          },
          "execution_count": 24
        }
      ]
    },
    {
      "cell_type": "code",
      "metadata": {
        "id": "vOMmzUYzu331",
        "colab_type": "code",
        "outputId": "6ec1131c-cf5b-4111-ef3a-d639601abd2f",
        "colab": {
          "base_uri": "https://localhost:8080/",
          "height": 68
        }
      },
      "source": [
        "m+c   #Broadcasting vector to a matrix"
      ],
      "execution_count": 25,
      "outputs": [
        {
          "output_type": "execute_result",
          "data": {
            "text/plain": [
              "tensor([[11., 22., 33.],\n",
              "        [14., 25., 36.],\n",
              "        [17., 28., 39.]])"
            ]
          },
          "metadata": {
            "tags": []
          },
          "execution_count": 25
        }
      ]
    },
    {
      "cell_type": "code",
      "metadata": {
        "id": "yC5ZGaNwvGkq",
        "colab_type": "code",
        "outputId": "776cfe09-28ff-495b-f0fd-729260303036",
        "colab": {
          "base_uri": "https://localhost:8080/",
          "height": 85
        }
      },
      "source": [
        "# To see how it actually looks like,\n",
        "t = c.expand_as(m); t; t.storage()"
      ],
      "execution_count": 26,
      "outputs": [
        {
          "output_type": "execute_result",
          "data": {
            "text/plain": [
              " 10.0\n",
              " 20.0\n",
              " 30.0\n",
              "[torch.FloatStorage of size 3]"
            ]
          },
          "metadata": {
            "tags": []
          },
          "execution_count": 26
        }
      ]
    },
    {
      "cell_type": "code",
      "metadata": {
        "id": "Kh3O8bTnvdEQ",
        "colab_type": "code",
        "outputId": "6a8f2e87-b4ba-4e03-da6e-f922ea515fc7",
        "colab": {
          "base_uri": "https://localhost:8080/",
          "height": 34
        }
      },
      "source": [
        "t.stride(), t.shape"
      ],
      "execution_count": 27,
      "outputs": [
        {
          "output_type": "execute_result",
          "data": {
            "text/plain": [
              "((0, 1), torch.Size([3, 3]))"
            ]
          },
          "metadata": {
            "tags": []
          },
          "execution_count": 27
        }
      ]
    },
    {
      "cell_type": "markdown",
      "metadata": {
        "id": "-po_zNLiwFTO",
        "colab_type": "text"
      },
      "source": [
        "You can index with the special value [None] or use unsqueeze() to convert a 1-dimensional array into a 2-dimensional array (although one of those dimensions has value 1)."
      ]
    },
    {
      "cell_type": "code",
      "metadata": {
        "id": "EQZuBQfOv--s",
        "colab_type": "code",
        "outputId": "8d450877-ce4f-4d8a-9c0c-de2e9b3e52c7",
        "colab": {
          "base_uri": "https://localhost:8080/",
          "height": 34
        }
      },
      "source": [
        "c.unsqueeze(0)"
      ],
      "execution_count": 28,
      "outputs": [
        {
          "output_type": "execute_result",
          "data": {
            "text/plain": [
              "tensor([[10., 20., 30.]])"
            ]
          },
          "metadata": {
            "tags": []
          },
          "execution_count": 28
        }
      ]
    },
    {
      "cell_type": "code",
      "metadata": {
        "id": "ZOsZ7QiCwTzp",
        "colab_type": "code",
        "outputId": "2eb0f71d-eb2a-4e98-9ad7-043b957f1e70",
        "colab": {
          "base_uri": "https://localhost:8080/",
          "height": 68
        }
      },
      "source": [
        " c.unsqueeze(1)"
      ],
      "execution_count": 29,
      "outputs": [
        {
          "output_type": "execute_result",
          "data": {
            "text/plain": [
              "tensor([[10.],\n",
              "        [20.],\n",
              "        [30.]])"
            ]
          },
          "metadata": {
            "tags": []
          },
          "execution_count": 29
        }
      ]
    },
    {
      "cell_type": "code",
      "metadata": {
        "id": "jVTUG-kzwfsk",
        "colab_type": "code",
        "outputId": "94edbe90-d649-4ede-c1e0-7e18891a2ace",
        "colab": {
          "base_uri": "https://localhost:8080/",
          "height": 34
        }
      },
      "source": [
        " c.shape, c.unsqueeze(0).shape,c.unsqueeze(1).shape  #Use unsqueeze to convert the dimension"
      ],
      "execution_count": 30,
      "outputs": [
        {
          "output_type": "execute_result",
          "data": {
            "text/plain": [
              "(torch.Size([3]), torch.Size([1, 3]), torch.Size([3, 1]))"
            ]
          },
          "metadata": {
            "tags": []
          },
          "execution_count": 30
        }
      ]
    },
    {
      "cell_type": "code",
      "metadata": {
        "id": "uY5g7pwKx7lp",
        "colab_type": "code",
        "outputId": "dd84938e-a048-4f9e-cef7-6f80aac56621",
        "colab": {
          "base_uri": "https://localhost:8080/",
          "height": 34
        }
      },
      "source": [
        "c.shape, c[None].shape,c[:,None].shape   # Use None value to convert the dimension"
      ],
      "execution_count": 31,
      "outputs": [
        {
          "output_type": "execute_result",
          "data": {
            "text/plain": [
              "(torch.Size([3]), torch.Size([1, 3]), torch.Size([3, 1]))"
            ]
          },
          "metadata": {
            "tags": []
          },
          "execution_count": 31
        }
      ]
    },
    {
      "cell_type": "markdown",
      "metadata": {
        "id": "aUuYgVt3ybMU",
        "colab_type": "text"
      },
      "source": [
        "#### Matrix multiplication with Broadcasting"
      ]
    },
    {
      "cell_type": "code",
      "metadata": {
        "id": "Z0gCRTahx_gB",
        "colab_type": "code",
        "colab": {}
      },
      "source": [
        "def matmul(a,b):\n",
        "  ar,ac = a.shape\n",
        "  br,bc = b.shape\n",
        "  assert ac == br\n",
        "  c = torch.zeros(ar,bc)\n",
        "  for i in range(ar):\n",
        "    c[i] = (a[i][:,None]*b).sum(dim=0)\n",
        "  return c"
      ],
      "execution_count": 0,
      "outputs": []
    },
    {
      "cell_type": "code",
      "metadata": {
        "id": "nxo3jYsktKQf",
        "colab_type": "code",
        "colab": {
          "base_uri": "https://localhost:8080/",
          "height": 34
        },
        "outputId": "49b873d8-39f0-4270-9712-8fa535729d33"
      },
      "source": [
        "%timeit -n 10 _=matmul(m1, m2)"
      ],
      "execution_count": 48,
      "outputs": [
        {
          "output_type": "stream",
          "text": [
            "10 loops, best of 3: 377 µs per loop\n"
          ],
          "name": "stdout"
        }
      ]
    },
    {
      "cell_type": "markdown",
      "metadata": {
        "id": "_ZCkUBRStgtK",
        "colab_type": "text"
      },
      "source": [
        "Note that the time has decresed further to ~400 micro secs"
      ]
    },
    {
      "cell_type": "markdown",
      "metadata": {
        "id": "TXH7Ri9Xt7mw",
        "colab_type": "text"
      },
      "source": [
        "##### Lets analyse it step by step.."
      ]
    },
    {
      "cell_type": "code",
      "metadata": {
        "id": "_t1cTRe8y82j",
        "colab_type": "code",
        "outputId": "8599699c-21a9-4245-ba98-79465fcaf371",
        "colab": {
          "base_uri": "https://localhost:8080/",
          "height": 68
        }
      },
      "source": [
        "a = tensor([[1.,2,3],\n",
        "           [2,2,1],\n",
        "           [1,2,1]])\n",
        "a"
      ],
      "execution_count": 37,
      "outputs": [
        {
          "output_type": "execute_result",
          "data": {
            "text/plain": [
              "tensor([[1., 2., 3.],\n",
              "        [2., 2., 1.],\n",
              "        [1., 2., 1.]])"
            ]
          },
          "metadata": {
            "tags": []
          },
          "execution_count": 37
        }
      ]
    },
    {
      "cell_type": "code",
      "metadata": {
        "id": "wGRfrgRWsE7z",
        "colab_type": "code",
        "colab": {
          "base_uri": "https://localhost:8080/",
          "height": 68
        },
        "outputId": "157e2ff4-758e-4916-cb84-0b176db277d2"
      },
      "source": [
        "b = tensor([[2.,1,1],\n",
        "           [1,2,2],\n",
        "           [3,2,2]])\n",
        "b"
      ],
      "execution_count": 38,
      "outputs": [
        {
          "output_type": "execute_result",
          "data": {
            "text/plain": [
              "tensor([[2., 1., 1.],\n",
              "        [1., 2., 2.],\n",
              "        [3., 2., 2.]])"
            ]
          },
          "metadata": {
            "tags": []
          },
          "execution_count": 38
        }
      ]
    },
    {
      "cell_type": "code",
      "metadata": {
        "id": "W7MyTgQ6sOFK",
        "colab_type": "code",
        "colab": {
          "base_uri": "https://localhost:8080/",
          "height": 34
        },
        "outputId": "7741a8c5-5f91-4782-da39-6e0947d9e2c6"
      },
      "source": [
        "#Lets  take the first row.\n",
        "a[0]"
      ],
      "execution_count": 50,
      "outputs": [
        {
          "output_type": "execute_result",
          "data": {
            "text/plain": [
              "tensor([1., 2., 3.])"
            ]
          },
          "metadata": {
            "tags": []
          },
          "execution_count": 50
        }
      ]
    },
    {
      "cell_type": "code",
      "metadata": {
        "id": "M5Z_7ft4uL0Q",
        "colab_type": "code",
        "colab": {
          "base_uri": "https://localhost:8080/",
          "height": 68
        },
        "outputId": "72c519b5-ea7a-4d97-ef36-2013a6fe30c6"
      },
      "source": [
        "#Transpose it using squeeze()\n",
        "a[0][:,None]"
      ],
      "execution_count": 54,
      "outputs": [
        {
          "output_type": "execute_result",
          "data": {
            "text/plain": [
              "tensor([[1.],\n",
              "        [2.],\n",
              "        [3.]])"
            ]
          },
          "metadata": {
            "tags": []
          },
          "execution_count": 54
        }
      ]
    },
    {
      "cell_type": "code",
      "metadata": {
        "id": "VfTL9n85uRwA",
        "colab_type": "code",
        "colab": {
          "base_uri": "https://localhost:8080/",
          "height": 119
        },
        "outputId": "bd4356c2-5702-46bb-f0de-d919f904d9f3"
      },
      "source": [
        "#Multiply the transposed row with b ... and then sum() on column\n",
        "print(b)\n",
        "(a[0][:,None]*b)"
      ],
      "execution_count": 58,
      "outputs": [
        {
          "output_type": "stream",
          "text": [
            "tensor([[2., 1., 1.],\n",
            "        [1., 2., 2.],\n",
            "        [3., 2., 2.]])\n"
          ],
          "name": "stdout"
        },
        {
          "output_type": "execute_result",
          "data": {
            "text/plain": [
              "tensor([[2., 1., 1.],\n",
              "        [2., 4., 4.],\n",
              "        [9., 6., 6.]])"
            ]
          },
          "metadata": {
            "tags": []
          },
          "execution_count": 58
        }
      ]
    },
    {
      "cell_type": "code",
      "metadata": {
        "id": "ixohoG2juiAK",
        "colab_type": "code",
        "colab": {
          "base_uri": "https://localhost:8080/",
          "height": 34
        },
        "outputId": "be1042db-d96b-4065-a1ce-88811f871d9e"
      },
      "source": [
        "#Use sum(dim=0) to sum across column and dim=1 to sum across row\n",
        "(a[0][:,None]*b).sum(dim=0)"
      ],
      "execution_count": 59,
      "outputs": [
        {
          "output_type": "execute_result",
          "data": {
            "text/plain": [
              "tensor([13., 11., 11.])"
            ]
          },
          "metadata": {
            "tags": []
          },
          "execution_count": 59
        }
      ]
    },
    {
      "cell_type": "code",
      "metadata": {
        "id": "bIJ0IahXsPxU",
        "colab_type": "code",
        "colab": {
          "base_uri": "https://localhost:8080/",
          "height": 68
        },
        "outputId": "3c24e34f-702c-4f1b-bf6b-b32c5d7b3bfc"
      },
      "source": [
        "matmul(a,b)"
      ],
      "execution_count": 60,
      "outputs": [
        {
          "output_type": "execute_result",
          "data": {
            "text/plain": [
              "tensor([[13., 11., 11.],\n",
              "        [ 9.,  8.,  8.],\n",
              "        [ 7.,  7.,  7.]])"
            ]
          },
          "metadata": {
            "tags": []
          },
          "execution_count": 60
        }
      ]
    },
    {
      "cell_type": "markdown",
      "metadata": {
        "id": "WfJ6Z8unvlrH",
        "colab_type": "text"
      },
      "source": [
        "..Similarly repeat this for other rows..."
      ]
    },
    {
      "cell_type": "markdown",
      "metadata": {
        "id": "Kk_kWzLQwkEk",
        "colab_type": "text"
      },
      "source": [
        "### Einstein Summantion (einsum)"
      ]
    },
    {
      "cell_type": "markdown",
      "metadata": {
        "id": "3LL_WQMKxDQD",
        "colab_type": "text"
      },
      "source": [
        "Einstein summation (einsum) is a compact representation for combining products and sums in a general way. From the numpy docs:\n",
        "\n",
        "\"The subscripts string is a comma-separated list of subscript labels, where each label refers to a dimension of the corresponding operand. Whenever a label is repeated it is summed, so np.einsum('i,i', a, b) is equivalent to np.inner(a,b). If a label appears only once, it is not summed, so np.einsum('i', a) produces a view of a with no changes.\""
      ]
    },
    {
      "cell_type": "code",
      "metadata": {
        "id": "loADgthMsZAB",
        "colab_type": "code",
        "colab": {}
      },
      "source": [
        "def matmul(a,b):\n",
        "  return torch.einsum('ik,kj->ij',a,b)"
      ],
      "execution_count": 0,
      "outputs": []
    },
    {
      "cell_type": "code",
      "metadata": {
        "id": "0u9i5NT8zGEx",
        "colab_type": "code",
        "outputId": "bc47f745-cfcb-4511-f309-be389877bc98",
        "colab": {
          "base_uri": "https://localhost:8080/",
          "height": 51
        }
      },
      "source": [
        "%timeit -n 10 _=matmul(m1, m2)"
      ],
      "execution_count": 62,
      "outputs": [
        {
          "output_type": "stream",
          "text": [
            "The slowest run took 129.21 times longer than the fastest. This could mean that an intermediate result is being cached.\n",
            "10 loops, best of 3: 38.5 µs per loop\n"
          ],
          "name": "stdout"
        }
      ]
    },
    {
      "cell_type": "markdown",
      "metadata": {
        "id": "b87r5P1ox8Dn",
        "colab_type": "text"
      },
      "source": [
        "#### Using Pytorch op"
      ]
    },
    {
      "cell_type": "code",
      "metadata": {
        "id": "l7-EHOOqx2iW",
        "colab_type": "code",
        "colab": {
          "base_uri": "https://localhost:8080/",
          "height": 51
        },
        "outputId": "bdefa836-0806-4606-858d-c5f458a466a6"
      },
      "source": [
        "%timeit -n 10 t2 = torch.matmul(m1,m2)"
      ],
      "execution_count": 63,
      "outputs": [
        {
          "output_type": "stream",
          "text": [
            "The slowest run took 34.03 times longer than the fastest. This could mean that an intermediate result is being cached.\n",
            "10 loops, best of 3: 14.6 µs per loop\n"
          ],
          "name": "stdout"
        }
      ]
    },
    {
      "cell_type": "code",
      "metadata": {
        "id": "4sC3zQKMyFl9",
        "colab_type": "code",
        "colab": {}
      },
      "source": [
        ""
      ],
      "execution_count": 0,
      "outputs": []
    }
  ]
}