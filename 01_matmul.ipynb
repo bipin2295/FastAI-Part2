{
  "nbformat": 4,
  "nbformat_minor": 0,
  "metadata": {
    "colab": {
      "name": "01_matmul",
      "version": "0.3.2",
      "provenance": [],
      "collapsed_sections": [],
      "include_colab_link": true
    },
    "kernelspec": {
      "name": "python3",
      "display_name": "Python 3"
    }
  },
  "cells": [
    {
      "cell_type": "markdown",
      "metadata": {
        "id": "view-in-github",
        "colab_type": "text"
      },
      "source": [
        "<a href=\"https://colab.research.google.com/github/bipin2295/FastAI-Part2/blob/master/01_matmul.ipynb\" target=\"_parent\"><img src=\"https://colab.research.google.com/assets/colab-badge.svg\" alt=\"Open In Colab\"/></a>"
      ]
    },
    {
      "cell_type": "markdown",
      "metadata": {
        "id": "xVbbgRHXcx24",
        "colab_type": "text"
      },
      "source": [
        "# **Get Data**"
      ]
    },
    {
      "cell_type": "code",
      "metadata": {
        "id": "lVGjwds5aPYX",
        "colab_type": "code",
        "colab": {}
      },
      "source": [
        "#export\n",
        "from pathlib import Path\n",
        "from IPython.core.debugger import set_trace\n",
        "from fastai import datasets\n",
        "import pickle, gzip, math, torch, matplotlib as mpl\n",
        "import matplotlib.pyplot as plt\n",
        "from torch import tensor\n",
        "\n",
        "MNIST_URL='http://deeplearning.net/data/mnist/mnist.pkl'\n"
      ],
      "execution_count": 0,
      "outputs": []
    },
    {
      "cell_type": "code",
      "metadata": {
        "id": "iAWehM2Oc-AT",
        "colab_type": "code",
        "outputId": "b746242e-3f5a-45bd-dc07-0868970adca2",
        "colab": {
          "base_uri": "https://localhost:8080/",
          "height": 34
        }
      },
      "source": [
        "path = datasets.download_data(url=MNIST_URL, ext='.gz');\n",
        "path"
      ],
      "execution_count": 3,
      "outputs": [
        {
          "output_type": "execute_result",
          "data": {
            "text/plain": [
              "PosixPath('/root/.fastai/data/mnist.pkl.gz')"
            ]
          },
          "metadata": {
            "tags": []
          },
          "execution_count": 3
        }
      ]
    },
    {
      "cell_type": "code",
      "metadata": {
        "id": "51exaJY5dhNg",
        "colab_type": "code",
        "colab": {}
      },
      "source": [
        "with gzip.open(path, 'rb') as f:\n",
        "  ((x_train, y_train),(x_valid, y_valid), _) = pickle.load(f,encoding='latin1')#https://stackoverflow.com/questions/11305790/pickle-incompatibility-of-numpy-arrays-between-python-2-and-3\n",
        "  "
      ],
      "execution_count": 0,
      "outputs": []
    },
    {
      "cell_type": "code",
      "metadata": {
        "id": "ThgsRN8elkBA",
        "colab_type": "code",
        "colab": {}
      },
      "source": [
        "x_train, y_train, x_valid, y_valid = map(tensor, (x_train, y_train, x_valid, y_valid))\n",
        "n,c = x_train.shape"
      ],
      "execution_count": 0,
      "outputs": []
    },
    {
      "cell_type": "code",
      "metadata": {
        "id": "Vo01S4numuSn",
        "colab_type": "code",
        "outputId": "2cb39cdb-5da6-4d3e-cf00-53dc9904977a",
        "colab": {
          "base_uri": "https://localhost:8080/",
          "height": 221
        }
      },
      "source": [
        "x_train, x_train.shape, y_train, y_train.shape, y_train.min(), y_train.max()"
      ],
      "execution_count": 6,
      "outputs": [
        {
          "output_type": "execute_result",
          "data": {
            "text/plain": [
              "(tensor([[0., 0., 0.,  ..., 0., 0., 0.],\n",
              "         [0., 0., 0.,  ..., 0., 0., 0.],\n",
              "         [0., 0., 0.,  ..., 0., 0., 0.],\n",
              "         ...,\n",
              "         [0., 0., 0.,  ..., 0., 0., 0.],\n",
              "         [0., 0., 0.,  ..., 0., 0., 0.],\n",
              "         [0., 0., 0.,  ..., 0., 0., 0.]]),\n",
              " torch.Size([50000, 784]),\n",
              " tensor([5, 0, 4,  ..., 8, 4, 8]),\n",
              " torch.Size([50000]),\n",
              " tensor(0),\n",
              " tensor(9))"
            ]
          },
          "metadata": {
            "tags": []
          },
          "execution_count": 6
        }
      ]
    },
    {
      "cell_type": "code",
      "metadata": {
        "id": "oVKGDof-mNW2",
        "colab_type": "code",
        "colab": {}
      },
      "source": [
        "assert n==y_train.shape[0]==50000"
      ],
      "execution_count": 0,
      "outputs": []
    },
    {
      "cell_type": "code",
      "metadata": {
        "id": "ZYRsAsncmcoB",
        "colab_type": "code",
        "outputId": "bd818498-eb68-4169-d981-d748c9d9fd83",
        "colab": {
          "base_uri": "https://localhost:8080/",
          "height": 51
        }
      },
      "source": [
        "print(f\"current cmap property : {mpl.rcParams['image.cmap']}\")\n",
        "mpl.rcParams['image.cmap']='gray'\n",
        "print(f\"new cmap property : {mpl.rcParams['image.cmap']}\")"
      ],
      "execution_count": 8,
      "outputs": [
        {
          "output_type": "stream",
          "text": [
            "current cmap property : viridis\n",
            "new cmap property : gray\n"
          ],
          "name": "stdout"
        }
      ]
    },
    {
      "cell_type": "code",
      "metadata": {
        "id": "DiRxpKm9lPUe",
        "colab_type": "code",
        "colab": {}
      },
      "source": [
        "img = x_train[0]"
      ],
      "execution_count": 0,
      "outputs": []
    },
    {
      "cell_type": "code",
      "metadata": {
        "id": "u45WMRr3olus",
        "colab_type": "code",
        "outputId": "d47aef5a-70bc-4e06-e894-17e97b1f061c",
        "colab": {
          "base_uri": "https://localhost:8080/",
          "height": 34
        }
      },
      "source": [
        "img.view(28,28).type()"
      ],
      "execution_count": 10,
      "outputs": [
        {
          "output_type": "execute_result",
          "data": {
            "text/plain": [
              "'torch.FloatTensor'"
            ]
          },
          "metadata": {
            "tags": []
          },
          "execution_count": 10
        }
      ]
    },
    {
      "cell_type": "code",
      "metadata": {
        "id": "kO79DUseo20h",
        "colab_type": "code",
        "outputId": "b47224d4-3881-40f5-9cc3-5190f8b2837b",
        "colab": {
          "base_uri": "https://localhost:8080/",
          "height": 286
        }
      },
      "source": [
        "plt.imshow(img.view(28,28)) \n",
        "print (f\"Number : {y_train[0]}\")"
      ],
      "execution_count": 11,
      "outputs": [
        {
          "output_type": "stream",
          "text": [
            "Number : 5\n"
          ],
          "name": "stdout"
        },
        {
          "output_type": "display_data",
          "data": {
            "image/png": "[encoded data removed]",
            "text/plain": [
              "<Figure size 432x288 with 1 Axes>"
            ]
          },
          "metadata": {
            "tags": []
          }
        }
      ]
    },
    {
      "cell_type": "markdown",
      "metadata": {
        "id": "GmN-qScqqD8z",
        "colab_type": "text"
      },
      "source": [
        "# **Initial Python Model**"
      ]
    },
    {
      "cell_type": "code",
      "metadata": {
        "id": "iIP7okLPo7x1",
        "colab_type": "code",
        "colab": {}
      },
      "source": [
        "weights = torch.randn(784,10)\n",
        "bias = torch.zeros(10)"
      ],
      "execution_count": 0,
      "outputs": []
    },
    {
      "cell_type": "markdown",
      "metadata": {
        "id": "_rNp4VIJjrfl",
        "colab_type": "text"
      },
      "source": [
        "### Matrix Multiplication"
      ]
    },
    {
      "cell_type": "markdown",
      "metadata": {
        "id": "vDCPietGnHat",
        "colab_type": "text"
      },
      "source": [
        "#### Using Simple loops"
      ]
    },
    {
      "cell_type": "code",
      "metadata": {
        "id": "YO5T7X7zjmCU",
        "colab_type": "code",
        "colab": {}
      },
      "source": [
        "def matmul(a,b):\n",
        "  ar,ac = a.shape\n",
        "  br,bc = b.shape\n",
        "  assert ac == br\n",
        "  c = torch.zeros(ar,bc)\n",
        "  for i in range(ar):\n",
        "    for j in range(bc):\n",
        "      for k in range(ar):\n",
        "        c[i,j] += a[i,k]* b[k,j]\n",
        "  return c        "
      ],
      "execution_count": 0,
      "outputs": []
    },
    {
      "cell_type": "code",
      "metadata": {
        "id": "2XdiLEsBkxkC",
        "colab_type": "code",
        "colab": {}
      },
      "source": [
        "m1 =  x_valid[:5,:]\n",
        "m2 = weights"
      ],
      "execution_count": 0,
      "outputs": []
    },
    {
      "cell_type": "code",
      "metadata": {
        "id": "7r3oJKuRjY__",
        "colab_type": "code",
        "colab": {
          "base_uri": "https://localhost:8080/",
          "height": 34
        },
        "outputId": "506e31b1-8015-4b92-9e23-fced2c3d1930"
      },
      "source": [
        "m1.shape, m2.shape"
      ],
      "execution_count": 24,
      "outputs": [
        {
          "output_type": "execute_result",
          "data": {
            "text/plain": [
              "(torch.Size([5, 784]), torch.Size([784, 10]))"
            ]
          },
          "metadata": {
            "tags": []
          },
          "execution_count": 24
        }
      ]
    },
    {
      "cell_type": "code",
      "metadata": {
        "id": "uOr3C0b2lHB7",
        "colab_type": "code",
        "colab": {
          "base_uri": "https://localhost:8080/",
          "height": 51
        },
        "outputId": "6484bebd-c804-434f-a51e-f8c8288c05b6"
      },
      "source": [
        "%time t1 = matmul(m1,m2)"
      ],
      "execution_count": 27,
      "outputs": [
        {
          "output_type": "stream",
          "text": [
            "CPU times: user 6.56 ms, sys: 522 µs, total: 7.08 ms\n",
            "Wall time: 7.88 ms\n"
          ],
          "name": "stdout"
        }
      ]
    },
    {
      "cell_type": "markdown",
      "metadata": {
        "id": "KjU7AUl6lixy",
        "colab_type": "text"
      },
      "source": [
        "Note the speed, it's ~8 ms for 784 columns. It's too slow"
      ]
    },
    {
      "cell_type": "code",
      "metadata": {
        "id": "onVI-XeelXwe",
        "colab_type": "code",
        "colab": {
          "base_uri": "https://localhost:8080/",
          "height": 34
        },
        "outputId": "cd06d2b5-dc5c-4089-ce5c-82269a0a8005"
      },
      "source": [
        "t1.shape"
      ],
      "execution_count": 29,
      "outputs": [
        {
          "output_type": "execute_result",
          "data": {
            "text/plain": [
              "torch.Size([5, 10])"
            ]
          },
          "metadata": {
            "tags": []
          },
          "execution_count": 29
        }
      ]
    },
    {
      "cell_type": "markdown",
      "metadata": {
        "id": "1vLQ3R9knObc",
        "colab_type": "text"
      },
      "source": [
        "#### Using Elementwise operators"
      ]
    },
    {
      "cell_type": "code",
      "metadata": {
        "id": "HWCY80Ufls_u",
        "colab_type": "code",
        "colab": {}
      },
      "source": [
        "def matmul(a,b):\n",
        "  ar,ac = a.shape\n",
        "  br,bc = b.shape\n",
        "  assert ac == br\n",
        "  c = torch.zeros(ar,bc)\n",
        "  for i in range(ar):\n",
        "    for j in range(bc):\n",
        "      #Note that we removed one loop and used * operator to multiply row and column \n",
        "      c[i,j] = (a[i,:] * b[:,j]).sum()\n",
        "  return c"
      ],
      "execution_count": 0,
      "outputs": []
    },
    {
      "cell_type": "code",
      "metadata": {
        "id": "yTNrKn7ZoAHy",
        "colab_type": "code",
        "colab": {
          "base_uri": "https://localhost:8080/",
          "height": 34
        },
        "outputId": "ecf67772-35e0-45de-bb6a-b184b262ad99"
      },
      "source": [
        "%timeit -n 10 _ = matmul(m1,m2)"
      ],
      "execution_count": 42,
      "outputs": [
        {
          "output_type": "stream",
          "text": [
            "10 loops, best of 3: 1.32 ms per loop\n"
          ],
          "name": "stdout"
        }
      ]
    },
    {
      "cell_type": "markdown",
      "metadata": {
        "id": "SySwii8hpkt6",
        "colab_type": "text"
      },
      "source": [
        "Note that time has reduced to 1.32 ms, which is 8 times less."
      ]
    },
    {
      "cell_type": "markdown",
      "metadata": {
        "id": "THgmHYMjr7XT",
        "colab_type": "text"
      },
      "source": [
        "#### Using Broadcasting:\n",
        "The term **broadcasting** describes how arrays with different shapes are treated during arithmetic operations. The term broadcasting was first used by Numpy."
      ]
    },
    {
      "cell_type": "markdown",
      "metadata": {
        "id": "_zaxMSEzsIMX",
        "colab_type": "text"
      },
      "source": [
        "From the Numpy Documentation:\n",
        "\n",
        "\n",
        "\n",
        "```\n",
        "The term broadcasting describes how numpy treats arrays with \n",
        "different shapes during arithmetic operations. Subject to certain \n",
        "constraints, the smaller array is “broadcast” across the larger \n",
        "array so that they have compatible shapes. Broadcasting provides a \n",
        "means of vectorizing array operations so that looping occurs in C\n",
        "instead of Python. It does this without making needless copies of \n",
        "data and usually leads to efficient algorithm implementations.\n",
        "```\n",
        "\n",
        "\n"
      ]
    },
    {
      "cell_type": "markdown",
      "metadata": {
        "id": "XTWZmgC6safi",
        "colab_type": "text"
      },
      "source": [
        "#### Broadcasting with scalar"
      ]
    },
    {
      "cell_type": "code",
      "metadata": {
        "id": "o2EJThqSsg5U",
        "colab_type": "code",
        "colab": {
          "base_uri": "https://localhost:8080/",
          "height": 34
        },
        "outputId": "c4b33f8d-4bd1-4a0a-8bef-d81a7b08da77"
      },
      "source": [
        "a = tensor([10., 6, -4])\n",
        "b = tensor([2., 8, 7])\n",
        "a,b"
      ],
      "execution_count": 43,
      "outputs": [
        {
          "output_type": "execute_result",
          "data": {
            "text/plain": [
              "(tensor([10.,  6., -4.]), tensor([2., 8., 7.]))"
            ]
          },
          "metadata": {
            "tags": []
          },
          "execution_count": 43
        }
      ]
    },
    {
      "cell_type": "code",
      "metadata": {
        "id": "Mjm81Icfs2RC",
        "colab_type": "code",
        "colab": {
          "base_uri": "https://localhost:8080/",
          "height": 34
        },
        "outputId": "4a3a407e-4389-444b-cacc-bcb85aed4174"
      },
      "source": [
        "a>0"
      ],
      "execution_count": 44,
      "outputs": [
        {
          "output_type": "execute_result",
          "data": {
            "text/plain": [
              "tensor([1, 1, 0], dtype=torch.uint8)"
            ]
          },
          "metadata": {
            "tags": []
          },
          "execution_count": 44
        }
      ]
    },
    {
      "cell_type": "markdown",
      "metadata": {
        "id": "Jd_c9UdctOUe",
        "colab_type": "text"
      },
      "source": [
        "How are we able to do a > 0? 0 is being **broadcast** to have the same dimensions as a.\n",
        "\n",
        "For instance you can normalize our dataset by subtracting the mean (a scalar) from the entire data set (a matrix) and dividing by the standard deviation (another scalar), using broadcasting.\n",
        "\n",
        "Other examples of broadcasting with a scalar:"
      ]
    },
    {
      "cell_type": "code",
      "metadata": {
        "id": "IZkj4lQbtRcg",
        "colab_type": "code",
        "colab": {
          "base_uri": "https://localhost:8080/",
          "height": 34
        },
        "outputId": "f9e61cc0-e50a-451b-dfd3-e62e31ba5887"
      },
      "source": [
        "a-1 #Broadcasting scalar to matrix"
      ],
      "execution_count": 45,
      "outputs": [
        {
          "output_type": "execute_result",
          "data": {
            "text/plain": [
              "tensor([ 9.,  5., -5.])"
            ]
          },
          "metadata": {
            "tags": []
          },
          "execution_count": 45
        }
      ]
    },
    {
      "cell_type": "code",
      "metadata": {
        "id": "I_Rk4URltZKD",
        "colab_type": "code",
        "colab": {
          "base_uri": "https://localhost:8080/",
          "height": 68
        },
        "outputId": "576a8ce2-c32e-46b7-efcc-c9e3749a3988"
      },
      "source": [
        "m = tensor([[1., 2, 3],\n",
        "           [4, 5, 6],\n",
        "           [7, 8, 9]])\n",
        "m, type(m)"
      ],
      "execution_count": 49,
      "outputs": [
        {
          "output_type": "execute_result",
          "data": {
            "text/plain": [
              "(tensor([[1., 2., 3.],\n",
              "         [4., 5., 6.],\n",
              "         [7., 8., 9.]]), torch.Tensor)"
            ]
          },
          "metadata": {
            "tags": []
          },
          "execution_count": 49
        }
      ]
    },
    {
      "cell_type": "code",
      "metadata": {
        "id": "8mkhiLNot2D1",
        "colab_type": "code",
        "colab": {
          "base_uri": "https://localhost:8080/",
          "height": 68
        },
        "outputId": "c201706b-f527-4692-c3a5-0b3ce5a85786"
      },
      "source": [
        "2*m   #"
      ],
      "execution_count": 50,
      "outputs": [
        {
          "output_type": "execute_result",
          "data": {
            "text/plain": [
              "tensor([[ 2.,  4.,  6.],\n",
              "        [ 8., 10., 12.],\n",
              "        [14., 16., 18.]])"
            ]
          },
          "metadata": {
            "tags": []
          },
          "execution_count": 50
        }
      ]
    },
    {
      "cell_type": "code",
      "metadata": {
        "id": "B7Xo8azQtvg7",
        "colab_type": "code",
        "colab": {
          "base_uri": "https://localhost:8080/",
          "height": 34
        },
        "outputId": "3120d65d-7a48-4741-e0a4-de3bfdeaf8a5"
      },
      "source": [
        "c = tensor([10.,20.,30.]);c"
      ],
      "execution_count": 59,
      "outputs": [
        {
          "output_type": "execute_result",
          "data": {
            "text/plain": [
              "tensor([10., 20., 30.])"
            ]
          },
          "metadata": {
            "tags": []
          },
          "execution_count": 59
        }
      ]
    },
    {
      "cell_type": "code",
      "metadata": {
        "id": "vOMmzUYzu331",
        "colab_type": "code",
        "colab": {
          "base_uri": "https://localhost:8080/",
          "height": 68
        },
        "outputId": "2d3e48ca-7258-454d-fa04-8a39a886ed22"
      },
      "source": [
        "m+c   #Broadcasting vector to a matrix"
      ],
      "execution_count": 60,
      "outputs": [
        {
          "output_type": "execute_result",
          "data": {
            "text/plain": [
              "tensor([[11., 22., 33.],\n",
              "        [14., 25., 36.],\n",
              "        [17., 28., 39.]])"
            ]
          },
          "metadata": {
            "tags": []
          },
          "execution_count": 60
        }
      ]
    },
    {
      "cell_type": "code",
      "metadata": {
        "id": "yC5ZGaNwvGkq",
        "colab_type": "code",
        "colab": {
          "base_uri": "https://localhost:8080/",
          "height": 85
        },
        "outputId": "d6c55ca7-eb9b-4cdc-a7fb-a40fac41c4d6"
      },
      "source": [
        "# To see how it actually looks like,\n",
        "t = c.expand_as(m); t; t.storage()"
      ],
      "execution_count": 62,
      "outputs": [
        {
          "output_type": "execute_result",
          "data": {
            "text/plain": [
              " 10.0\n",
              " 20.0\n",
              " 30.0\n",
              "[torch.FloatStorage of size 3]"
            ]
          },
          "metadata": {
            "tags": []
          },
          "execution_count": 62
        }
      ]
    },
    {
      "cell_type": "code",
      "metadata": {
        "id": "Kh3O8bTnvdEQ",
        "colab_type": "code",
        "colab": {
          "base_uri": "https://localhost:8080/",
          "height": 34
        },
        "outputId": "8bc7d418-5ec6-4bf9-ed05-12dc0dbd8269"
      },
      "source": [
        "t.stride(), t.shape"
      ],
      "execution_count": 63,
      "outputs": [
        {
          "output_type": "execute_result",
          "data": {
            "text/plain": [
              "((0, 1), torch.Size([3, 3]))"
            ]
          },
          "metadata": {
            "tags": []
          },
          "execution_count": 63
        }
      ]
    },
    {
      "cell_type": "markdown",
      "metadata": {
        "id": "-po_zNLiwFTO",
        "colab_type": "text"
      },
      "source": [
        "You can index with the special value [None] or use unsqueeze() to convert a 1-dimensional array into a 2-dimensional array (although one of those dimensions has value 1)."
      ]
    },
    {
      "cell_type": "code",
      "metadata": {
        "id": "EQZuBQfOv--s",
        "colab_type": "code",
        "colab": {
          "base_uri": "https://localhost:8080/",
          "height": 34
        },
        "outputId": "956c1a57-a615-4117-f00f-eb63061aad6b"
      },
      "source": [
        "c.unsqueeze(0)"
      ],
      "execution_count": 67,
      "outputs": [
        {
          "output_type": "execute_result",
          "data": {
            "text/plain": [
              "tensor([[10., 20., 30.]])"
            ]
          },
          "metadata": {
            "tags": []
          },
          "execution_count": 67
        }
      ]
    },
    {
      "cell_type": "code",
      "metadata": {
        "id": "ZOsZ7QiCwTzp",
        "colab_type": "code",
        "colab": {
          "base_uri": "https://localhost:8080/",
          "height": 68
        },
        "outputId": "bebab0d4-f9fe-4cf2-c5dc-6789916531d3"
      },
      "source": [
        " c.unsqueeze(1)"
      ],
      "execution_count": 68,
      "outputs": [
        {
          "output_type": "execute_result",
          "data": {
            "text/plain": [
              "tensor([[10.],\n",
              "        [20.],\n",
              "        [30.]])"
            ]
          },
          "metadata": {
            "tags": []
          },
          "execution_count": 68
        }
      ]
    },
    {
      "cell_type": "code",
      "metadata": {
        "id": "jVTUG-kzwfsk",
        "colab_type": "code",
        "colab": {
          "base_uri": "https://localhost:8080/",
          "height": 34
        },
        "outputId": "724fe603-4909-45d9-f4b6-c12ce807bfab"
      },
      "source": [
        " c.shape, c.unsqueeze(0).shape,c.unsqueeze(1).shape  #Use unsqueeze to convert the dimension"
      ],
      "execution_count": 72,
      "outputs": [
        {
          "output_type": "execute_result",
          "data": {
            "text/plain": [
              "(torch.Size([3]), torch.Size([1, 3]), torch.Size([3, 1]))"
            ]
          },
          "metadata": {
            "tags": []
          },
          "execution_count": 72
        }
      ]
    },
    {
      "cell_type": "code",
      "metadata": {
        "id": "uY5g7pwKx7lp",
        "colab_type": "code",
        "colab": {
          "base_uri": "https://localhost:8080/",
          "height": 34
        },
        "outputId": "9b0a6853-92f4-4ac7-aaf1-bea5640eca76"
      },
      "source": [
        "c.shape, c[None].shape,c[:,None].shape   # Use None value to convert the dimension"
      ],
      "execution_count": 73,
      "outputs": [
        {
          "output_type": "execute_result",
          "data": {
            "text/plain": [
              "(torch.Size([3]), torch.Size([1, 3]), torch.Size([3, 1]))"
            ]
          },
          "metadata": {
            "tags": []
          },
          "execution_count": 73
        }
      ]
    },
    {
      "cell_type": "markdown",
      "metadata": {
        "id": "aUuYgVt3ybMU",
        "colab_type": "text"
      },
      "source": [
        "#### Matrix multiplication with Broadcasting"
      ]
    },
    {
      "cell_type": "code",
      "metadata": {
        "id": "Z0gCRTahx_gB",
        "colab_type": "code",
        "colab": {}
      },
      "source": [
        "def matmul(a,b):\n",
        "  ar,ac = a.shape\n",
        "  br,bc = b.shape\n",
        "  assert ac == br\n",
        "  c = torch.zeros(ar,bc)\n",
        "  for i in range(ar):\n",
        "#     c[i,j] = (a[i,:]* b[:,j]).sum() # previous\n",
        "    c[i] = a[i,:]"
      ],
      "execution_count": 0,
      "outputs": []
    },
    {
      "cell_type": "code",
      "metadata": {
        "id": "_t1cTRe8y82j",
        "colab_type": "code",
        "colab": {
          "base_uri": "https://localhost:8080/",
          "height": 187
        },
        "outputId": "7573f4bf-800c-4139-b6c5-564d60fb1315"
      },
      "source": [
        "m2[1].unsqueeze(1)"
      ],
      "execution_count": 85,
      "outputs": [
        {
          "output_type": "execute_result",
          "data": {
            "text/plain": [
              "tensor([[ 1.7380],\n",
              "        [ 0.8622],\n",
              "        [ 1.1186],\n",
              "        [ 1.3262],\n",
              "        [-1.5371],\n",
              "        [ 0.2526],\n",
              "        [-0.9539],\n",
              "        [-0.6528],\n",
              "        [-0.1980],\n",
              "        [-0.6856]])"
            ]
          },
          "metadata": {
            "tags": []
          },
          "execution_count": 85
        }
      ]
    },
    {
      "cell_type": "code",
      "metadata": {
        "id": "0u9i5NT8zGEx",
        "colab_type": "code",
        "colab": {
          "base_uri": "https://localhost:8080/",
          "height": 51
        },
        "outputId": "65678c58-606d-4490-8fdf-75f3d2d12b1d"
      },
      "source": [
        "m2[None,1]"
      ],
      "execution_count": 87,
      "outputs": [
        {
          "output_type": "execute_result",
          "data": {
            "text/plain": [
              "tensor([[ 1.7380,  0.8622,  1.1186,  1.3262, -1.5371,  0.2526, -0.9539, -0.6528,\n",
              "         -0.1980, -0.6856]])"
            ]
          },
          "metadata": {
            "tags": []
          },
          "execution_count": 87
        }
      ]
    }
  ]
}