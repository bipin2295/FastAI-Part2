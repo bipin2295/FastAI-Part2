{
  "nbformat": 4,
  "nbformat_minor": 0,
  "metadata": {
    "colab": {
      "name": "04_callbacks.ipynb",
      "version": "0.3.2",
      "provenance": [],
      "collapsed_sections": []
    },
    "kernelspec": {
      "name": "python3",
      "display_name": "Python 3"
    }
  },
  "cells": [
    {
      "cell_type": "code",
      "metadata": {
        "id": "keW9vafuZRP0",
        "colab_type": "code",
        "colab": {}
      },
      "source": [
        "%load_ext autoreload\n",
        "%autoreload 2\n",
        "\n",
        "%matplotlib inline"
      ],
      "execution_count": 0,
      "outputs": []
    },
    {
      "cell_type": "code",
      "metadata": {
        "id": "Yb2pjVKMaDH7",
        "colab_type": "code",
        "colab": {
          "base_uri": "https://localhost:8080/",
          "height": 122
        },
        "outputId": "571a8a4d-806f-4485-c4c0-f54a506ce56c"
      },
      "source": [
        "# export\n",
        "from google.colab import drive\n",
        "drive.mount('/content/drive')"
      ],
      "execution_count": 3,
      "outputs": [
        {
          "output_type": "stream",
          "text": [
            "Go to this URL in a browser: https://accounts.google.com/o/oauth2/auth?client_id=947318989803-6bn6qk8qdgf4n4g3pfee6491hc0brc4i.apps.googleusercontent.com&redirect_uri=urn%3Aietf%3Awg%3Aoauth%3A2.0%3Aoob&scope=email%20https%3A%2F%2Fwww.googleapis.com%2Fauth%2Fdocs.test%20https%3A%2F%2Fwww.googleapis.com%2Fauth%2Fdrive%20https%3A%2F%2Fwww.googleapis.com%2Fauth%2Fdrive.photos.readonly%20https%3A%2F%2Fwww.googleapis.com%2Fauth%2Fpeopleapi.readonly&response_type=code\n",
            "\n",
            "Enter your authorization code:\n",
            "··········\n",
            "Mounted at /content/drive\n"
          ],
          "name": "stdout"
        }
      ]
    },
    {
      "cell_type": "code",
      "metadata": {
        "id": "210JrSQAaMmU",
        "colab_type": "code",
        "colab": {
          "base_uri": "https://localhost:8080/",
          "height": 54
        },
        "outputId": "b0a0175c-fc73-45d2-afa9-a0e02f140c86"
      },
      "source": [
        "# export\n",
        "import sys\n",
        "sys.path.insert(0,\"/content/drive/My Drive/Colab Notebooks/exp\")\n",
        "from nb_03 import *\n",
        "import torch.nn.functional as F"
      ],
      "execution_count": 4,
      "outputs": [
        {
          "output_type": "stream",
          "text": [
            "Drive already mounted at /content/drive; to attempt to forcibly remount, call drive.mount(\"/content/drive\", force_remount=True).\n"
          ],
          "name": "stdout"
        }
      ]
    },
    {
      "cell_type": "markdown",
      "metadata": {
        "id": "oPVFJ1C-auSB",
        "colab_type": "text"
      },
      "source": [
        "## Databunch/Learner"
      ]
    },
    {
      "cell_type": "code",
      "metadata": {
        "id": "ORc4xh7had4R",
        "colab_type": "code",
        "colab": {}
      },
      "source": [
        "# Downloading data\n",
        "x_train, y_train, x_valid, y_valid = get_data()\n",
        "\n",
        "# Creating dataset\n",
        "train_ds, valid_ds = Dataset(x_train, y_train), Dataset(x_valid, y_valid)\n",
        "\n",
        "nh, bs = 50, 64\n",
        "\n",
        "c = y_train.max().item() + 1\n",
        "loss_func = F.cross_entropy"
      ],
      "execution_count": 0,
      "outputs": []
    },
    {
      "cell_type": "markdown",
      "metadata": {
        "id": "elDR3mffd9FJ",
        "colab_type": "text"
      },
      "source": [
        "Factor out the connected pieces of info out of the `fit()` argument list\n",
        "\n",
        "`fit(epochs, model, loss_func, opt, train_dl, valid_dl)`\n",
        "\n",
        "Let's replace it with something that looks like this:\n",
        "\n",
        "`fit(1, learn)`\n",
        "\n",
        "This will allow us to tweak what's happening inside the training loop in other places of the code because the `Learner` object will be mutable, so changing any of its attribute elsewhere will be seen in our training loop."
      ]
    },
    {
      "cell_type": "code",
      "metadata": {
        "id": "SZZshU9zdGli",
        "colab_type": "code",
        "colab": {}
      },
      "source": [
        "# export\n",
        "class Databunch():\n",
        "  def __init__(self, train_dl, valid_dl, c = None):\n",
        "    self.train_dl, self.valid_dl, self.c = train_dl, valid_dl, c\n",
        "\n",
        "  @property\n",
        "  def train_ds(self):\n",
        "    return self.train_dl.dataset\n",
        "\n",
        "  @property\n",
        "  def valid_ds(self):\n",
        "    return self.valid_dl.dataset\n"
      ],
      "execution_count": 0,
      "outputs": []
    },
    {
      "cell_type": "code",
      "metadata": {
        "id": "mJ_HMjise3kK",
        "colab_type": "code",
        "colab": {}
      },
      "source": [
        "data = Databunch(*get_dls(train_ds, valid_ds, bs), c)"
      ],
      "execution_count": 0,
      "outputs": []
    },
    {
      "cell_type": "code",
      "metadata": {
        "id": "K2smti8MgrTd",
        "colab_type": "code",
        "colab": {}
      },
      "source": [
        "# export\n",
        "def get_model(data, lr=0.5, nh=50):\n",
        "  m = data.train_ds.x.shape[1]\n",
        "  model = nn.Sequential(nn.Linear(m, nh), nn.ReLU(), nn.Linear(nh, data.c))\n",
        "  return model, optim.SGD(model.parameters(), lr=lr)\n",
        "\n",
        "class Learner():\n",
        "  def __init__(self, model, opt, loss_func, data):\n",
        "    self.model, self.opt, self.loss_func, self.data = model, opt, loss_func, data"
      ],
      "execution_count": 0,
      "outputs": []
    },
    {
      "cell_type": "code",
      "metadata": {
        "id": "qgB1krYfiqwC",
        "colab_type": "code",
        "colab": {}
      },
      "source": [
        "learn = Learner(*get_model(data), loss_func=loss_func, data=data)"
      ],
      "execution_count": 0,
      "outputs": []
    },
    {
      "cell_type": "code",
      "metadata": {
        "id": "XU4HFMfoi3-f",
        "colab_type": "code",
        "colab": {}
      },
      "source": [
        "def fit(epochs, learn):\n",
        "  for epoch in range(epochs):\n",
        "    learn.model.train()\n",
        "    for xb, yb in learn.data.train_dl:\n",
        "      loss = learn.loss_func(learn.model(xb), yb)\n",
        "      loss.backward()\n",
        "      learn.opt.step()\n",
        "      learn.opt.zero_grad()\n",
        "\n",
        "    learn.model.eval()\n",
        "    with torch.no_grad():\n",
        "      tot_loss, tot_acc = 0., 0.\n",
        "      for xb, yb in learn.data.valid_dl:\n",
        "        pred = learn.model(xb)\n",
        "        tot_loss += loss_func(pred, yb)\n",
        "        tot_acc += accuracy(pred, yb)\n",
        "      nv = len(learn.data.valid_dl)\n",
        "      print(f\"Epoch:{epoch}, Total loss: {tot_loss/nv}, Total accuracy:{tot_acc/nv}\")\n",
        "  return tot_loss/nv, tot_acc/nv   "
      ],
      "execution_count": 0,
      "outputs": []
    },
    {
      "cell_type": "code",
      "metadata": {
        "id": "GFgGD003mDiG",
        "colab_type": "code",
        "colab": {
          "base_uri": "https://localhost:8080/",
          "height": 207
        },
        "outputId": "a5da61d4-0246-4420-93e8-81041b1266b5"
      },
      "source": [
        "loss, acc = fit(10, learn)"
      ],
      "execution_count": 11,
      "outputs": [
        {
          "output_type": "stream",
          "text": [
            "Epoch:0, Total loss: 0.20537017285823822, Total accuracy:0.9398885369300842\n",
            "Epoch:1, Total loss: 0.12045322358608246, Total accuracy:0.9644705653190613\n",
            "Epoch:2, Total loss: 0.10656212270259857, Total accuracy:0.9671576619148254\n",
            "Epoch:3, Total loss: 0.10449612140655518, Total accuracy:0.9686504602432251\n",
            "Epoch:4, Total loss: 0.15277493000030518, Total accuracy:0.9558120965957642\n",
            "Epoch:5, Total loss: 0.173533633351326, Total accuracy:0.9501393437385559\n",
            "Epoch:6, Total loss: 0.19334310293197632, Total accuracy:0.9458598494529724\n",
            "Epoch:7, Total loss: 0.12071230262517929, Total accuracy:0.9644705653190613\n",
            "Epoch:8, Total loss: 0.11496611684560776, Total accuracy:0.9698447585105896\n",
            "Epoch:9, Total loss: 0.16170071065425873, Total accuracy:0.956707775592804\n"
          ],
          "name": "stdout"
        }
      ]
    },
    {
      "cell_type": "markdown",
      "metadata": {
        "id": "zicm5osOkjPC",
        "colab_type": "text"
      },
      "source": [
        "## Callback Handler\n",
        "This was our training loop (without validation) from the previous notebook, with the inner loop contents factored out:\n",
        "```\n",
        "def one_batch(xb,yb):\n",
        "    pred = model(xb)\n",
        "    loss = loss_func(pred, yb)\n",
        "    loss.backward()\n",
        "    opt.step()\n",
        "    opt.zero_grad()\n",
        "\n",
        "def fit():\n",
        "    for epoch in range(epochs):\n",
        "        for b in train_dl: one_batch(*b)\n",
        "\n",
        "```\n",
        "\n",
        "\n",
        "\n",
        "Add callbacks so we can remove complexity from loop, and make it flexible:"
      ]
    },
    {
      "cell_type": "code",
      "metadata": {
        "id": "HBkOoUIUfM0D",
        "colab_type": "code",
        "colab": {}
      },
      "source": [
        "class Callback():\n",
        "  def begin_fit(self, learn):\n",
        "    self.learn = learn\n",
        "    return True\n",
        "\n",
        "  def after_fit(self): return True\n",
        "\n",
        "  def begin_epoch(self, epoch): \n",
        "    self.epoch = epoch\n",
        "    return True\n",
        "\n",
        "  def begin_validate(self): return True\n",
        "\n",
        "  def after_epoch(self): return True\n",
        "\n",
        "  def begin_batch(self, xb, yb):\n",
        "    self.xb, self.yb = xb, yb\n",
        "    return True\n",
        "\n",
        "  def after_loss(self,loss):\n",
        "    self.loss = loss\n",
        "    return True\n",
        "\n",
        "  def after_backward(self): return True\n",
        "\n",
        "  def after_step(self): return True"
      ],
      "execution_count": 0,
      "outputs": []
    },
    {
      "cell_type": "code",
      "metadata": {
        "id": "r8mp4KsAoUdv",
        "colab_type": "code",
        "colab": {}
      },
      "source": [
        "class CallbackHandler():\n",
        "  def __init__(self, cbs=None):\n",
        "    self.cbs = cbs if cbs else []\n",
        "\n",
        "  def begin_fit(self, learn):\n",
        "    self.learn, self.in_train = learn, True\n",
        "    learn.stop = False\n",
        "    res = True\n",
        "    for cb in self.cbs:\n",
        "      res = res and cb.begin_fit(learn)\n",
        "    return res\n",
        "\n",
        "  def after_fit(self):\n",
        "    res = not self.in_train\n",
        "    for cb in self.cbs:\n",
        "      res = res and cb.after_fit()\n",
        "    return True\n",
        "\n",
        "  def begin_epoch(self, epoch):\n",
        "    self.learn.model.train()\n",
        "    self.in_train = True\n",
        "    res = True\n",
        "    for cb in self.cbs:\n",
        "      res = res and cb.begin_epoch(epoch)\n",
        "    return res\n",
        "\n",
        "  def begin_validate(self):\n",
        "    self.learn.model.eval()\n",
        "    self.in_train = False\n",
        "    res = True\n",
        "    for cb in self.cbs:\n",
        "      res = res and cb.begin_validate()\n",
        "    return res\n",
        "\n",
        "  def after_epoch(self):\n",
        "    res = True\n",
        "    for cb in self.cbs:\n",
        "      res = res and cb.after_epoch()\n",
        "    return res\n",
        "\n",
        "  def begin_batch(self, xb, yb):\n",
        "    res = True\n",
        "    for cb in self.cbs:\n",
        "      res = res and cb.begin_batch(xb, yb)\n",
        "    return res\n",
        "\n",
        "  def after_loss(self, loss):\n",
        "    res = self.in_train\n",
        "    for cb in self.cbs:\n",
        "      res = res and cb.after_loss(loss)\n",
        "    return res\n",
        "\n",
        "  def after_backward(self):\n",
        "    res = True\n",
        "    for cb in self.cbs:\n",
        "      res = res and cb.after_backward()\n",
        "    return res\n",
        "\n",
        "  def after_step(self):\n",
        "    res = True\n",
        "    for cb in self.cbs:\n",
        "      res = res and cb.after_step()\n",
        "    return res\n",
        "\n",
        "  def do_stop(self):\n",
        "    try:\n",
        "      return self.learn.stop\n",
        "    finally:\n",
        "      self.learn.stop = False"
      ],
      "execution_count": 0,
      "outputs": []
    },
    {
      "cell_type": "code",
      "metadata": {
        "id": "1FMAdtBMiVtg",
        "colab_type": "code",
        "colab": {}
      },
      "source": [
        "def one_batch(xb, yb, cb):\n",
        "  if not cb.begin_batch(xb, yb): return\n",
        "  loss = cb.learn.loss_func(cb.learn.model(xb), yb)\n",
        "  if not cb.after_loss(loss): return\n",
        "  if cb.after_backward(): cb.learn.opt.step()\n",
        "  if cb.after_step(): cb.learn.opt.zero_grad()\n",
        "\n",
        "def all_batches(dl, cb):\n",
        "  for xb, yb in dl:\n",
        "    one_batch(xb, yb, cb)\n",
        "    if cb.do_stop(): return\n",
        "\n",
        "def fit(epochs, learn, cb):\n",
        "  if not cb.begin_fit(learn): return\n",
        "  for epoch in range(epochs):\n",
        "    if not cb.begin_epoch(epoch): continue\n",
        "    all_batches(learn.data.train_dl, cb)\n",
        "\n",
        "    if cb.begin_validate():\n",
        "      with torch.no_grad():\n",
        "        all_batches(learn.data.valid_dl, cb)\n",
        "    \n",
        "    if cb.do_stop() or not cb.after_epoch():\n",
        "      break\n",
        "    cb.after_fit()"
      ],
      "execution_count": 0,
      "outputs": []
    },
    {
      "cell_type": "code",
      "metadata": {
        "id": "W2jNuL5NwjL1",
        "colab_type": "code",
        "colab": {}
      },
      "source": [
        "class TestCallback(Callback):\n",
        "  def begin_fit(self, learn):\n",
        "    super().begin_fit(learn)\n",
        "    self.n_iters = 0\n",
        "    return True\n",
        "\n",
        "  def after_step(self):\n",
        "    self.n_iters += 1\n",
        "    print(self.n_iters)\n",
        "    if self.n_iters >= 10:\n",
        "      self.learn.stop = True\n",
        "    return True\n",
        "\n",
        "  def begin_epoch(self, epoch):\n",
        "    self.n_iters = 0\n",
        "    print(f'Epoch {epoch}')\n",
        "    return True"
      ],
      "execution_count": 0,
      "outputs": []
    },
    {
      "cell_type": "code",
      "metadata": {
        "id": "3SCZzADvyDXZ",
        "colab_type": "code",
        "colab": {
          "base_uri": "https://localhost:8080/",
          "height": 578
        },
        "outputId": "9b4e803f-d315-42a0-9c15-31b21d5cecdc"
      },
      "source": [
        "fit(3, learn, cb=CallbackHandler([TestCallback()]))"
      ],
      "execution_count": 45,
      "outputs": [
        {
          "output_type": "stream",
          "text": [
            "Epoch 0\n",
            "1\n",
            "2\n",
            "3\n",
            "4\n",
            "5\n",
            "6\n",
            "7\n",
            "8\n",
            "9\n",
            "10\n",
            "Epoch 1\n",
            "1\n",
            "2\n",
            "3\n",
            "4\n",
            "5\n",
            "6\n",
            "7\n",
            "8\n",
            "9\n",
            "10\n",
            "Epoch 2\n",
            "1\n",
            "2\n",
            "3\n",
            "4\n",
            "5\n",
            "6\n",
            "7\n",
            "8\n",
            "9\n",
            "10\n"
          ],
          "name": "stdout"
        }
      ]
    },
    {
      "cell_type": "markdown",
      "metadata": {
        "id": "WsrObmTO0-lb",
        "colab_type": "text"
      },
      "source": [
        "This is roughly how fastai does it now (except that the handler can also change and return xb, yb, and loss). But let's see if we can make things simpler and more flexible, so that a single class has access to everything and can change anything at any time. The fact that we're passing cb to so many functions is a strong hint they should all be in the same class!"
      ]
    },
    {
      "cell_type": "markdown",
      "metadata": {
        "id": "MXc89h5a1I6z",
        "colab_type": "text"
      },
      "source": [
        "## Runner"
      ]
    },
    {
      "cell_type": "code",
      "metadata": {
        "id": "YjcIixg_c3qn",
        "colab_type": "code",
        "colab": {}
      },
      "source": [
        "# export\n",
        "import re\n",
        "\n",
        "_camel_re1 = re.compile('(.)([A-Z][a-z]+)')\n",
        "_camel_re2 = re.compile('(a-z0-9)(A-Z)')\n",
        "\n",
        "def camel2snake(name):\n",
        "  s1 = re.sub(_camel_re1, r'\\1_\\2', name)\n",
        "  return re.sub(_camel_re2, r'\\1_\\2', s1).lower()\n",
        "\n",
        "class Callback():\n",
        "  _order = 0\n",
        "  def set_runner(self, run):\n",
        "    self.run = run\n",
        "\n",
        "  def __getattr__(self, k):\n",
        "    return getattr(self.run, k)\n",
        "\n",
        "  @property\n",
        "  def name(self):\n",
        "    name = re.sub(r'Callback$','',self.__class__.__name__)\n",
        "    return camel2snake(name or 'callback')"
      ],
      "execution_count": 0,
      "outputs": []
    },
    {
      "cell_type": "markdown",
      "metadata": {
        "id": "dajCbNN763bn",
        "colab_type": "text"
      },
      "source": [
        "This first callback is reponsible to switch the model back and forth in training or validation mode, as well as maintaining a count of the iterations, or the percentage of iterations ellapsed in the epoch."
      ]
    },
    {
      "cell_type": "code",
      "metadata": {
        "id": "T403b1IOcMRb",
        "colab_type": "code",
        "colab": {}
      },
      "source": [
        "# export\n",
        "class TrainEvalCallback(Callback):\n",
        "  def begin_fit(self):\n",
        "    self.run.n_epochs = 0.\n",
        "    self.run.n_iter = 0\n",
        "\n",
        "  def after_batch(self):\n",
        "    if not self.in_train: return\n",
        "    self.run.n_epochs += 1./self.iters\n",
        "    self.run.n_iter += 1\n",
        "\n",
        "  def begin_epoch(self):\n",
        "    self.run.n_epochs = self.epoch\n",
        "    self.model.train()\n",
        "    self.run.in_train=True\n",
        "\n",
        "  def begin_validate(self):\n",
        "    self.model.eval()\n",
        "    self.run.in_train=False"
      ],
      "execution_count": 0,
      "outputs": []
    },
    {
      "cell_type": "markdown",
      "metadata": {
        "id": "LMOUotkW7y4y",
        "colab_type": "text"
      },
      "source": [
        "We'll also re-create our TestCallback"
      ]
    },
    {
      "cell_type": "code",
      "metadata": {
        "id": "YAaLro537yNg",
        "colab_type": "code",
        "colab": {}
      },
      "source": [
        "class TestCallback(Callback):\n",
        "  def after_step(self):\n",
        "    if self.train_eval.n_iters >= 10:\n",
        "      return True"
      ],
      "execution_count": 0,
      "outputs": []
    },
    {
      "cell_type": "code",
      "metadata": {
        "id": "gb_uToLB8DHR",
        "colab_type": "code",
        "colab": {
          "base_uri": "https://localhost:8080/",
          "height": 34
        },
        "outputId": "caaa910d-c25c-4ea1-bce6-31478b1a22d8"
      },
      "source": [
        "cbname = 'TrainEvalCallback'\n",
        "camel2snake(cbname)"
      ],
      "execution_count": 52,
      "outputs": [
        {
          "output_type": "execute_result",
          "data": {
            "text/plain": [
              "'train_2callback'"
            ]
          },
          "metadata": {
            "tags": []
          },
          "execution_count": 52
        }
      ]
    },
    {
      "cell_type": "code",
      "metadata": {
        "id": "ZPfnnXMZ8J-G",
        "colab_type": "code",
        "colab": {
          "base_uri": "https://localhost:8080/",
          "height": 34
        },
        "outputId": "48d65a9d-b035-4604-d9bb-1cd079986fb3"
      },
      "source": [
        "TrainEvalCallback().name"
      ],
      "execution_count": 57,
      "outputs": [
        {
          "output_type": "execute_result",
          "data": {
            "text/plain": [
              "'train_eval'"
            ]
          },
          "metadata": {
            "tags": []
          },
          "execution_count": 57
        }
      ]
    },
    {
      "cell_type": "code",
      "metadata": {
        "id": "Q7tQQhtX8OIh",
        "colab_type": "code",
        "colab": {}
      },
      "source": [
        "# export\n",
        "\n",
        "from typing import *\n",
        "def listify(o):\n",
        "  if o is None: return []\n",
        "  if isinstance(o, list): return o\n",
        "  if isinstance(o, str): return [o]\n",
        "  if isinstance(o, Iterable): return list(o)\n",
        "  return [o]"
      ],
      "execution_count": 0,
      "outputs": []
    },
    {
      "cell_type": "code",
      "metadata": {
        "id": "Rx8v9cG18xus",
        "colab_type": "code",
        "colab": {}
      },
      "source": [
        ""
      ],
      "execution_count": 0,
      "outputs": []
    }
  ]
}