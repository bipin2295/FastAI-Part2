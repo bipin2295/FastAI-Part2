{
  "nbformat": 4,
  "nbformat_minor": 0,
  "metadata": {
    "colab": {
      "name": "05_anneal.ipynb",
      "provenance": [],
      "collapsed_sections": []
    },
    "kernelspec": {
      "name": "python3",
      "display_name": "Python 3"
    }
  },
  "cells": [
    {
      "cell_type": "code",
      "metadata": {
        "id": "MlGG4OLB9ZRk",
        "colab_type": "code",
        "colab": {}
      },
      "source": [
        "%load_ext autoreload\n",
        "%autoreload 2\n",
        "\n",
        "%matplotlib inline"
      ],
      "execution_count": 0,
      "outputs": []
    },
    {
      "cell_type": "code",
      "metadata": {
        "id": "upiB49g--U7S",
        "colab_type": "code",
        "outputId": "ced4f374-bd85-4f76-9ddc-d04cb8093b62",
        "colab": {
          "base_uri": "https://localhost:8080/",
          "height": 122
        }
      },
      "source": [
        "# export\n",
        "from google.colab import drive\n",
        "drive.mount('/content/drive')"
      ],
      "execution_count": 2,
      "outputs": [
        {
          "output_type": "stream",
          "text": [
            "Go to this URL in a browser: https://accounts.google.com/o/oauth2/auth?client_id=947318989803-6bn6qk8qdgf4n4g3pfee6491hc0brc4i.apps.googleusercontent.com&redirect_uri=urn%3Aietf%3Awg%3Aoauth%3A2.0%3Aoob&scope=email%20https%3A%2F%2Fwww.googleapis.com%2Fauth%2Fdocs.test%20https%3A%2F%2Fwww.googleapis.com%2Fauth%2Fdrive%20https%3A%2F%2Fwww.googleapis.com%2Fauth%2Fdrive.photos.readonly%20https%3A%2F%2Fwww.googleapis.com%2Fauth%2Fpeopleapi.readonly&response_type=code\n",
            "\n",
            "Enter your authorization code:\n",
            "··········\n",
            "Mounted at /content/drive\n"
          ],
          "name": "stdout"
        }
      ]
    },
    {
      "cell_type": "code",
      "metadata": {
        "id": "EFjO1dR1-YLu",
        "colab_type": "code",
        "outputId": "1af400c7-6f86-4a97-cf91-5f4785c38c82",
        "colab": {
          "base_uri": "https://localhost:8080/",
          "height": 71
        }
      },
      "source": [
        "# export\n",
        "import sys\n",
        "sys.path.insert(0,\"/content/drive/My Drive/Colab Notebooks/exp\")\n",
        "from nb_04 import *"
      ],
      "execution_count": 3,
      "outputs": [
        {
          "output_type": "stream",
          "text": [
            "Drive already mounted at /content/drive; to attempt to forcibly remount, call drive.mount(\"/content/drive\", force_remount=True).\n",
            "Drive already mounted at /content/drive; to attempt to forcibly remount, call drive.mount(\"/content/drive\", force_remount=True).\n"
          ],
          "name": "stdout"
        }
      ]
    },
    {
      "cell_type": "markdown",
      "metadata": {
        "id": "XIn2Eqku-9F3",
        "colab_type": "text"
      },
      "source": [
        "## Initial Setup\n",
        "\n"
      ]
    },
    {
      "cell_type": "code",
      "metadata": {
        "id": "SJIuKzy7-q5t",
        "colab_type": "code",
        "colab": {}
      },
      "source": [
        "# Downloading data\n",
        "x_train, y_train, x_valid, y_valid = get_data()\n",
        "\n",
        "# Creating dataset\n",
        "train_ds, valid_ds = Dataset(x_train, y_train), Dataset(x_valid, y_valid)\n",
        "\n",
        "nh, bs = 50, 512\n",
        "\n",
        "c = y_train.max().item() + 1\n",
        "loss_func = F.cross_entropy"
      ],
      "execution_count": 0,
      "outputs": []
    },
    {
      "cell_type": "code",
      "metadata": {
        "id": "x0Vd3bsLDoLN",
        "colab_type": "code",
        "colab": {}
      },
      "source": [
        "data = Databunch(*get_dls(train_ds, valid_ds, bs), c)"
      ],
      "execution_count": 0,
      "outputs": []
    },
    {
      "cell_type": "code",
      "metadata": {
        "id": "R39-K4DhBadC",
        "colab_type": "code",
        "colab": {}
      },
      "source": [
        "# export\n",
        "def create_learner(model_func, loss_func, data):\n",
        "  return Learner(*model_func(data), loss_func, data)"
      ],
      "execution_count": 0,
      "outputs": []
    },
    {
      "cell_type": "code",
      "metadata": {
        "id": "jTMMudobEOhm",
        "colab_type": "code",
        "outputId": "c0685367-67e6-487c-8208-a56502f8086a",
        "colab": {
          "base_uri": "https://localhost:8080/",
          "height": 119
        }
      },
      "source": [
        "learn = create_learner(get_model, loss_func, data)\n",
        "run = Runner([AvgStatsCallback([accuracy])])\n",
        "\n",
        "run.fit(3, learn)"
      ],
      "execution_count": 7,
      "outputs": [
        {
          "output_type": "stream",
          "text": [
            "train: [0.65737140625, tensor(0.8074)]\n",
            "valid: [0.3372231201171875, tensor(0.8980)]\n",
            "train: [0.2957126171875, tensor(0.9144)]\n",
            "valid: [0.23824892578125, tensor(0.9306)]\n",
            "train: [0.2374569921875, tensor(0.9315)]\n",
            "valid: [0.20041988525390625, tensor(0.9440)]\n"
          ],
          "name": "stdout"
        }
      ]
    },
    {
      "cell_type": "code",
      "metadata": {
        "id": "lrFIYnYzBrd8",
        "colab_type": "code",
        "outputId": "53025875-0345-478d-cada-578a607b930d",
        "colab": {
          "base_uri": "https://localhost:8080/",
          "height": 119
        }
      },
      "source": [
        "learn = create_learner(partial(get_model, lr=0.3), loss_func, data)\n",
        "run = Runner([AvgStatsCallback([accuracy])])\n",
        "\n",
        "run.fit(3, learn)"
      ],
      "execution_count": 8,
      "outputs": [
        {
          "output_type": "stream",
          "text": [
            "train: [0.76593484375, tensor(0.8013)]\n",
            "valid: [0.35941875, tensor(0.8989)]\n",
            "train: [0.3461725, tensor(0.9012)]\n",
            "valid: [0.28937421875, tensor(0.9168)]\n",
            "train: [0.29751837890625, tensor(0.9153)]\n",
            "valid: [0.273209765625, tensor(0.9212)]\n"
          ],
          "name": "stdout"
        }
      ]
    },
    {
      "cell_type": "code",
      "metadata": {
        "id": "DMevaJ3lEm5_",
        "colab_type": "code",
        "colab": {}
      },
      "source": [
        "# export\n",
        "def get_model_func(lr =0.5):\n",
        "  return partial(get_model, lr=lr)"
      ],
      "execution_count": 0,
      "outputs": []
    },
    {
      "cell_type": "markdown",
      "metadata": {
        "id": "bDH--ueYDKBG",
        "colab_type": "text"
      },
      "source": [
        "## Annealing"
      ]
    },
    {
      "cell_type": "markdown",
      "metadata": {
        "id": "ErB8d6uXDN1e",
        "colab_type": "text"
      },
      "source": [
        "We define two new callbacks: the Recorder to save track of the loss and our scheduled learning rate, and a ParamScheduler that can schedule any hyperparameter as long as it's registered in the state_dict of the optimizer."
      ]
    },
    {
      "cell_type": "code",
      "metadata": {
        "id": "3OBBH2taDNGH",
        "colab_type": "code",
        "colab": {}
      },
      "source": [
        "# export\n",
        "class Recorder(Callback):\n",
        "  def begin_fit(self):\n",
        "    self.lrs, self.losses = [],[]\n",
        "\n",
        "  def after_batch(self):\n",
        "    if not self.in_train: return\n",
        "    self.lrs.append(self.opt.param_groups[-1]['lr'])\n",
        "    self.losses.append(self.loss.detach().cpu())\n",
        "\n",
        "  def plot_lr(self): plt.plot(self.lrs)\n",
        "  def plot_loss(self): plt.plot(self.losses)\n",
        "\n",
        "class ParamScheduler(Callback):\n",
        "  _order = 1\n",
        "  def __init__(self, pname, sched_func):\n",
        "    self.pname, self.sched_func = pname, sched_func\n",
        "\n",
        "  def set_param(self):\n",
        "    for pg in self.opt.param_groups:\n",
        "      pg[self.pname] = self.sched_func(self.n_epochs/self.epochs)\n",
        "\n",
        "  def begin_batch(self):\n",
        "    if self.in_train:\n",
        "      self.set_param()\n"
      ],
      "execution_count": 0,
      "outputs": []
    },
    {
      "cell_type": "markdown",
      "metadata": {
        "id": "4Z-gX5x1Gael",
        "colab_type": "text"
      },
      "source": [
        "Let's start with a simple linear schedule going from start to end. It returns a function that takes a `pos` argument (going from 0 to 1) such that this function goes from `start` (at `pos=0`) to `end` (at `pos=1`) in a linear fashion."
      ]
    },
    {
      "cell_type": "code",
      "metadata": {
        "id": "nntvmm0rGVmy",
        "colab_type": "code",
        "colab": {}
      },
      "source": [
        "def sched_lin(start, end):\n",
        "  def _inner(start, end, pos):\n",
        "    return start + pos * (end - start)\n",
        "  return partial(_inner, start, end)"
      ],
      "execution_count": 0,
      "outputs": []
    },
    {
      "cell_type": "markdown",
      "metadata": {
        "id": "_TtJRGr_HYhJ",
        "colab_type": "text"
      },
      "source": [
        "We can refactor this with a decorator."
      ]
    },
    {
      "cell_type": "code",
      "metadata": {
        "id": "JbakOzUTHRas",
        "colab_type": "code",
        "colab": {}
      },
      "source": [
        "# export\n",
        "def annealer(f):\n",
        "  def _inner(start, end):\n",
        "    return partial(f, start, end)\n",
        "  return _inner\n",
        "\n",
        "@annealer\n",
        "def sched_lin(start, end, pos):\n",
        "  return start + pos * (end - start)"
      ],
      "execution_count": 0,
      "outputs": []
    },
    {
      "cell_type": "code",
      "metadata": {
        "id": "yXgF0ypmIH2t",
        "colab_type": "code",
        "colab": {
          "base_uri": "https://localhost:8080/",
          "height": 34
        },
        "outputId": "2abd4b74-ced4-47a5-fe01-24015d911f54"
      },
      "source": [
        "f = sched_lin(1,2)\n",
        "f(0.3)"
      ],
      "execution_count": 14,
      "outputs": [
        {
          "output_type": "execute_result",
          "data": {
            "text/plain": [
              "1.3"
            ]
          },
          "metadata": {
            "tags": []
          },
          "execution_count": 14
        }
      ]
    },
    {
      "cell_type": "markdown",
      "metadata": {
        "id": "VTuEijgsIXG2",
        "colab_type": "text"
      },
      "source": [
        "And here are other scheduler functions:"
      ]
    },
    {
      "cell_type": "code",
      "metadata": {
        "id": "y7MWaGMoIUrl",
        "colab_type": "code",
        "colab": {}
      },
      "source": [
        "# export\n",
        "@annealer\n",
        "def sched_cos(start, end, pos): return start + (1+math.cos(math.pi*(1-pos))) * (end-start)/2\n",
        "\n",
        "@annealer\n",
        "def sched_no(start, end, pos): return start\n",
        "\n",
        "@annealer\n",
        "def sched_exp(start, end, pos): return start * (end/start) ** pos\n",
        "\n",
        "# This monkey-patch is there to be able to plot tensorss\n",
        "torch.Tensor.ndim = property(lambda x: len(x.shape))"
      ],
      "execution_count": 0,
      "outputs": []
    },
    {
      "cell_type": "code",
      "metadata": {
        "id": "Ti9jQNEEJO2d",
        "colab_type": "code",
        "colab": {
          "base_uri": "https://localhost:8080/",
          "height": 286
        },
        "outputId": "b241af33-31b2-4138-a71f-8752011302fa"
      },
      "source": [
        "annealings = \"NO LINEAR COS EXP\".split()\n",
        "\n",
        "a = torch.arange(0, 100)\n",
        "p = torch.linspace(0.01, 1, 100)\n",
        "\n",
        "fns = [sched_no, sched_lin, sched_cos, sched_exp]\n",
        "for fn, t in zip(fns, annealings):\n",
        "  f = fn(2, 1e-2)\n",
        "  plt.plot(a, [f(o) for o in p], label=t)\n",
        "plt.legend()"
      ],
      "execution_count": 39,
      "outputs": [
        {
          "output_type": "execute_result",
          "data": {
            "text/plain": [
              "<matplotlib.legend.Legend at 0x7f7be2b4bf98>"
            ]
          },
          "metadata": {
            "tags": []
          },
          "execution_count": 39
        },
        {
          "output_type": "display_data",
          "data": {
            "image/png": "[encoded data removed]",
            "text/plain": [
              "<Figure size 432x288 with 1 Axes>"
            ]
          },
          "metadata": {
            "tags": []
          }
        }
      ]
    },
    {
      "cell_type": "markdown",
      "metadata": {
        "id": "He9ZhhItKSIe",
        "colab_type": "text"
      },
      "source": [
        "In practice, we'll often want to combine different schedulers, the following function does that: it uses `scheds[i]` for `pcts[i]` of the training."
      ]
    },
    {
      "cell_type": "code",
      "metadata": {
        "id": "w3MwuPmLC-Yx",
        "colab_type": "code",
        "colab": {}
      },
      "source": [
        "# export\n",
        "def combine_scheds(pcts, scheds):\n",
        "  assert sum(pcts) == 1.\n",
        "  pcts = tensor([0] + listify(pcts))\n",
        "  assert torch.all(pcts >= 0)\n",
        "  pcts = torch.cumsum(pcts, 0)\n",
        "  def _inner(pos):\n",
        "    idx = (pos >= pcts).nonzero().max()\n",
        "    actual_pos = (pos-pcts[idx])/(pcts[idx+1]-pcts[idx])\n",
        "    return scheds[idx](actual_pos)\n",
        "  return _inner"
      ],
      "execution_count": 0,
      "outputs": []
    },
    {
      "cell_type": "markdown",
      "metadata": {
        "id": "sDvLYhdeMQCB",
        "colab_type": "text"
      },
      "source": [
        "Here is an example: use 30% of the budget to go from 0.3 to 0.6 following a cosine, then the last 70% of the budget to go from 0.6 to 0.2, still following a cosine."
      ]
    },
    {
      "cell_type": "code",
      "metadata": {
        "id": "15KGTAJAMPaY",
        "colab_type": "code",
        "colab": {}
      },
      "source": [
        "sched = combine_scheds([0.3, 0.7], [sched_cos(0.3, 0.6),sched_cos(0.6, 0.2)])"
      ],
      "execution_count": 0,
      "outputs": []
    },
    {
      "cell_type": "code",
      "metadata": {
        "id": "WFJpcykkMiCY",
        "colab_type": "code",
        "colab": {
          "base_uri": "https://localhost:8080/",
          "height": 286
        },
        "outputId": "d4191e08-75d3-4866-bb40-d7814aad9a32"
      },
      "source": [
        "plt.plot(a, [sched(o) for o in p])"
      ],
      "execution_count": 42,
      "outputs": [
        {
          "output_type": "execute_result",
          "data": {
            "text/plain": [
              "[<matplotlib.lines.Line2D at 0x7f7be2c8c198>]"
            ]
          },
          "metadata": {
            "tags": []
          },
          "execution_count": 42
        },
        {
          "output_type": "display_data",
          "data": {
            "image/png": "[encoded data removed]",
            "text/plain": [
              "<Figure size 432x288 with 1 Axes>"
            ]
          },
          "metadata": {
            "tags": []
          }
        }
      ]
    },
    {
      "cell_type": "markdown",
      "metadata": {
        "id": "_sY3n9tbNlrj",
        "colab_type": "text"
      },
      "source": [
        "We can use it for training quite easily...\n"
      ]
    },
    {
      "cell_type": "code",
      "metadata": {
        "id": "afp9nuSLMvtD",
        "colab_type": "code",
        "colab": {}
      },
      "source": [
        "cbfs = [Recorder, \n",
        "        partial(AvgStatsCallback, accuracy), \n",
        "        partial(ParamScheduler,'lr', sched)]"
      ],
      "execution_count": 0,
      "outputs": []
    },
    {
      "cell_type": "code",
      "metadata": {
        "id": "HH8dnvP9N2ro",
        "colab_type": "code",
        "colab": {}
      },
      "source": [
        "learn = create_learner(get_model_func(0.3), loss_func, data)\n",
        "run = Runner(cb_funcs=cbfs)"
      ],
      "execution_count": 0,
      "outputs": []
    },
    {
      "cell_type": "code",
      "metadata": {
        "id": "b35Cl3VhOAg7",
        "colab_type": "code",
        "colab": {
          "base_uri": "https://localhost:8080/",
          "height": 187
        },
        "outputId": "24817341-6c85-4183-9e50-2fdf73b75f02"
      },
      "source": [
        "run.fit(5, learn)"
      ],
      "execution_count": 46,
      "outputs": [
        {
          "output_type": "stream",
          "text": [
            "train: [0.1923510546875, tensor(0.9452)]\n",
            "valid: [0.18881964111328126, tensor(0.9454)]\n",
            "train: [0.17562900390625, tensor(0.9490)]\n",
            "valid: [0.15568135986328124, tensor(0.9575)]\n",
            "train: [0.14970248046875, tensor(0.9575)]\n",
            "valid: [0.13757437744140624, tensor(0.9622)]\n",
            "train: [0.133344169921875, tensor(0.9620)]\n",
            "valid: [0.12990335693359376, tensor(0.9639)]\n",
            "train: [0.123899072265625, tensor(0.9647)]\n",
            "valid: [0.124832177734375, tensor(0.9653)]\n"
          ],
          "name": "stdout"
        }
      ]
    },
    {
      "cell_type": "code",
      "metadata": {
        "id": "XT8VlQ3EOEfi",
        "colab_type": "code",
        "colab": {
          "base_uri": "https://localhost:8080/",
          "height": 269
        },
        "outputId": "06850542-3fc4-4b63-f4b1-ebc36994a2c5"
      },
      "source": [
        "run.recorder.plot_lr()"
      ],
      "execution_count": 47,
      "outputs": [
        {
          "output_type": "display_data",
          "data": {
            "image/png": "[encoded data removed]",
            "text/plain": [
              "<Figure size 432x288 with 1 Axes>"
            ]
          },
          "metadata": {
            "tags": []
          }
        }
      ]
    },
    {
      "cell_type": "code",
      "metadata": {
        "id": "hvPpln0SOSns",
        "colab_type": "code",
        "colab": {
          "base_uri": "https://localhost:8080/",
          "height": 270
        },
        "outputId": "229f6482-4fef-425c-e13f-cbdd1b6389b5"
      },
      "source": [
        "run.recorder.plot_loss()"
      ],
      "execution_count": 48,
      "outputs": [
        {
          "output_type": "display_data",
          "data": {
            "image/png": "[encoded data removed]",
            "text/plain": [
              "<Figure size 432x288 with 1 Axes>"
            ]
          },
          "metadata": {
            "tags": []
          }
        }
      ]
    },
    {
      "cell_type": "markdown",
      "metadata": {
        "id": "Max5F8o8P4Vr",
        "colab_type": "text"
      },
      "source": [
        "##  Export"
      ]
    },
    {
      "cell_type": "code",
      "metadata": {
        "id": "LI3YIKCqOVat",
        "colab_type": "code",
        "colab": {
          "base_uri": "https://localhost:8080/",
          "height": 241
        },
        "outputId": "f591de3c-ddd4-4eea-a82d-e841b68060b9"
      },
      "source": [
        "!pip install fire"
      ],
      "execution_count": 49,
      "outputs": [
        {
          "output_type": "stream",
          "text": [
            "Collecting fire\n",
            "\u001b[?25l  Downloading https://files.pythonhosted.org/packages/d9/69/faeaae8687f4de0f5973694d02e9d6c3eb827636a009157352d98de1129e/fire-0.2.1.tar.gz (76kB)\n",
            "\r\u001b[K     |████▎                           | 10kB 15.9MB/s eta 0:00:01\r\u001b[K     |████████▋                       | 20kB 2.2MB/s eta 0:00:01\r\u001b[K     |████████████▉                   | 30kB 3.2MB/s eta 0:00:01\r\u001b[K     |█████████████████▏              | 40kB 2.1MB/s eta 0:00:01\r\u001b[K     |█████████████████████▍          | 51kB 2.6MB/s eta 0:00:01\r\u001b[K     |█████████████████████████▊      | 61kB 3.1MB/s eta 0:00:01\r\u001b[K     |██████████████████████████████  | 71kB 3.5MB/s eta 0:00:01\r\u001b[K     |████████████████████████████████| 81kB 3.8MB/s \n",
            "\u001b[?25hRequirement already satisfied: six in /usr/local/lib/python3.6/dist-packages (from fire) (1.12.0)\n",
            "Requirement already satisfied: termcolor in /usr/local/lib/python3.6/dist-packages (from fire) (1.1.0)\n",
            "Building wheels for collected packages: fire\n",
            "  Building wheel for fire (setup.py) ... \u001b[?25l\u001b[?25hdone\n",
            "  Created wheel for fire: filename=fire-0.2.1-py2.py3-none-any.whl size=103527 sha256=668fb971e9fe71b847376a55caee9db2d7182e13bfbc2d37c03544256199c3a0\n",
            "  Stored in directory: /root/.cache/pip/wheels/31/9c/c0/07b6dc7faf1844bb4688f46b569efe6cafaa2179c95db821da\n",
            "Successfully built fire\n",
            "Installing collected packages: fire\n",
            "Successfully installed fire-0.2.1\n"
          ],
          "name": "stdout"
        }
      ]
    },
    {
      "cell_type": "code",
      "metadata": {
        "id": "ImHA100dP7fw",
        "colab_type": "code",
        "colab": {
          "base_uri": "https://localhost:8080/",
          "height": 54
        },
        "outputId": "664b5b97-998a-4e2e-cd26-2da1b6ff7628"
      },
      "source": [
        "!python \"/content/drive/My Drive/Colab Notebooks/notebook2script.py\" \"/content/drive/My Drive/Colab Notebooks/05_anneal.ipynb\""
      ],
      "execution_count": 50,
      "outputs": [
        {
          "output_type": "stream",
          "text": [
            "Converted /content/drive/My Drive/Colab Notebooks/05_anneal.ipynb to /content/drive/My Drive/Colab Notebooks/exp/nb_05.py\n"
          ],
          "name": "stdout"
        }
      ]
    }
  ]
}